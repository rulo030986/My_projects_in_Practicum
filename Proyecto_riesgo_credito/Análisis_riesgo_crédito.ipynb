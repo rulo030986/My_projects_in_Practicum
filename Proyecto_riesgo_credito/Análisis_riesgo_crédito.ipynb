{
 "cells": [
  {
   "cell_type": "markdown",
   "id": "1fed3ce1",
   "metadata": {},
   "source": [
    "# Análisis del riesgo de incumplimiento de los prestatarios\n",
    "\n",
    "En este proyecto analisamos cuales pueden ser algunos de los factores que influyen en el incumplimiento de un crédito. Averiguaremos si el estado civil y el número de hijos de un cliente tienen un impacto en el incumplimiento de pago de un préstamo. Utilizaremos algunos datos sobre la solvencia crediticia de los clientes, que nos proporcionó el banco con el trabajamos.\n",
    "\n",
    "El informe se tendrá en cuenta al crear una **puntuación de crédito** para un cliente potencial. La **puntuación de crédito** se utiliza para evaluar la capacidad de un prestatario potencial para pagar su préstamo."
   ]
  },
  {
   "cell_type": "markdown",
   "id": "71079f87",
   "metadata": {},
   "source": [
    "**Descripción de los datos**\n",
    "Trabajamos con una tabla con datos de los clientes a la que hemos tenido acceso. Las siguientes son las variables que se miden por cliente:\n",
    "\n",
    "- `children` - el número de hijos en la familia\n",
    "- `days_employed` - experiencia laboral en días\n",
    "- `dob_years` - la edad del cliente en años\n",
    "- `education` - la educación del cliente\n",
    "- `education_id` - identificador de educación\n",
    "- `family_status` - estado civil\n",
    "- `family_status_id` - identificador de estado civil\n",
    "- `gender` - género del cliente\n",
    "- `income_type` - tipo de empleo\n",
    "- `debt` - ¿había alguna deuda en el pago de un préstamo?\n",
    "- `total_income` - ingreso mensual\n",
    "- `purpose` - el propósito de obtener un préstamo"
   ]
  },
  {
   "cell_type": "code",
   "execution_count": 1,
   "id": "7dd1e159",
   "metadata": {},
   "outputs": [],
   "source": [
    "# Tratamiento de datos\n",
    "# ==============================================================================\n",
    "import pandas as pd\n",
    "import numpy as np\n",
    "import math\n",
    "# Gráficos\n",
    "# ==============================================================================\n",
    "import matplotlib.pyplot as plt\n",
    "from matplotlib import style\n",
    "import seaborn as sns\n",
    "\n",
    "# Preprocesado y análisis\n",
    "# ==============================================================================\n",
    "import statsmodels.api as sm\n",
    "from scipy import stats\n",
    "\n",
    "# Configuración matplotlib\n",
    "# ==============================================================================\n",
    "plt.style.use('ggplot')\n",
    "# ==============================================================================\n",
    "import warnings\n",
    "warnings.filterwarnings('ignore')"
   ]
  },
  {
   "cell_type": "code",
   "execution_count": 2,
   "id": "79938f76",
   "metadata": {},
   "outputs": [
    {
     "name": "stdout",
     "output_type": "stream",
     "text": [
      "<class 'pandas.core.frame.DataFrame'>\n",
      "RangeIndex: 21525 entries, 0 to 21524\n",
      "Data columns (total 12 columns):\n",
      " #   Column            Non-Null Count  Dtype  \n",
      "---  ------            --------------  -----  \n",
      " 0   children          21525 non-null  int64  \n",
      " 1   days_employed     19351 non-null  float64\n",
      " 2   dob_years         21525 non-null  int64  \n",
      " 3   education         21525 non-null  object \n",
      " 4   education_id      21525 non-null  int64  \n",
      " 5   family_status     21525 non-null  object \n",
      " 6   family_status_id  21525 non-null  int64  \n",
      " 7   gender            21525 non-null  object \n",
      " 8   income_type       21525 non-null  object \n",
      " 9   debt              21525 non-null  int64  \n",
      " 10  total_income      19351 non-null  float64\n",
      " 11  purpose           21525 non-null  object \n",
      "dtypes: float64(2), int64(5), object(5)\n",
      "memory usage: 2.0+ MB\n"
     ]
    }
   ],
   "source": [
    "data_credit_scoring = pd.read_csv('credit_scoring_eng.csv')\n",
    "data_credit_scoring.info()"
   ]
  },
  {
   "cell_type": "code",
   "execution_count": 3,
   "id": "af5cb6cf",
   "metadata": {},
   "outputs": [
    {
     "data": {
      "text/html": [
       "<div>\n",
       "<style scoped>\n",
       "    .dataframe tbody tr th:only-of-type {\n",
       "        vertical-align: middle;\n",
       "    }\n",
       "\n",
       "    .dataframe tbody tr th {\n",
       "        vertical-align: top;\n",
       "    }\n",
       "\n",
       "    .dataframe thead th {\n",
       "        text-align: right;\n",
       "    }\n",
       "</style>\n",
       "<table border=\"1\" class=\"dataframe\">\n",
       "  <thead>\n",
       "    <tr style=\"text-align: right;\">\n",
       "      <th></th>\n",
       "      <th>children</th>\n",
       "      <th>days_employed</th>\n",
       "      <th>dob_years</th>\n",
       "      <th>education</th>\n",
       "      <th>education_id</th>\n",
       "      <th>family_status</th>\n",
       "      <th>family_status_id</th>\n",
       "      <th>gender</th>\n",
       "      <th>income_type</th>\n",
       "      <th>debt</th>\n",
       "      <th>total_income</th>\n",
       "      <th>purpose</th>\n",
       "    </tr>\n",
       "  </thead>\n",
       "  <tbody>\n",
       "    <tr>\n",
       "      <th>0</th>\n",
       "      <td>1</td>\n",
       "      <td>-8437.673028</td>\n",
       "      <td>42</td>\n",
       "      <td>bachelor's degree</td>\n",
       "      <td>0</td>\n",
       "      <td>married</td>\n",
       "      <td>0</td>\n",
       "      <td>F</td>\n",
       "      <td>employee</td>\n",
       "      <td>0</td>\n",
       "      <td>40620.102</td>\n",
       "      <td>purchase of the house</td>\n",
       "    </tr>\n",
       "    <tr>\n",
       "      <th>1</th>\n",
       "      <td>1</td>\n",
       "      <td>-4024.803754</td>\n",
       "      <td>36</td>\n",
       "      <td>secondary education</td>\n",
       "      <td>1</td>\n",
       "      <td>married</td>\n",
       "      <td>0</td>\n",
       "      <td>F</td>\n",
       "      <td>employee</td>\n",
       "      <td>0</td>\n",
       "      <td>17932.802</td>\n",
       "      <td>car purchase</td>\n",
       "    </tr>\n",
       "    <tr>\n",
       "      <th>2</th>\n",
       "      <td>0</td>\n",
       "      <td>-5623.422610</td>\n",
       "      <td>33</td>\n",
       "      <td>Secondary Education</td>\n",
       "      <td>1</td>\n",
       "      <td>married</td>\n",
       "      <td>0</td>\n",
       "      <td>M</td>\n",
       "      <td>employee</td>\n",
       "      <td>0</td>\n",
       "      <td>23341.752</td>\n",
       "      <td>purchase of the house</td>\n",
       "    </tr>\n",
       "    <tr>\n",
       "      <th>3</th>\n",
       "      <td>3</td>\n",
       "      <td>-4124.747207</td>\n",
       "      <td>32</td>\n",
       "      <td>secondary education</td>\n",
       "      <td>1</td>\n",
       "      <td>married</td>\n",
       "      <td>0</td>\n",
       "      <td>M</td>\n",
       "      <td>employee</td>\n",
       "      <td>0</td>\n",
       "      <td>42820.568</td>\n",
       "      <td>supplementary education</td>\n",
       "    </tr>\n",
       "    <tr>\n",
       "      <th>4</th>\n",
       "      <td>0</td>\n",
       "      <td>340266.072047</td>\n",
       "      <td>53</td>\n",
       "      <td>secondary education</td>\n",
       "      <td>1</td>\n",
       "      <td>civil partnership</td>\n",
       "      <td>1</td>\n",
       "      <td>F</td>\n",
       "      <td>retiree</td>\n",
       "      <td>0</td>\n",
       "      <td>25378.572</td>\n",
       "      <td>to have a wedding</td>\n",
       "    </tr>\n",
       "  </tbody>\n",
       "</table>\n",
       "</div>"
      ],
      "text/plain": [
       "   children  days_employed  dob_years            education  education_id  \\\n",
       "0         1   -8437.673028         42    bachelor's degree             0   \n",
       "1         1   -4024.803754         36  secondary education             1   \n",
       "2         0   -5623.422610         33  Secondary Education             1   \n",
       "3         3   -4124.747207         32  secondary education             1   \n",
       "4         0  340266.072047         53  secondary education             1   \n",
       "\n",
       "       family_status  family_status_id gender income_type  debt  total_income  \\\n",
       "0            married                 0      F    employee     0     40620.102   \n",
       "1            married                 0      F    employee     0     17932.802   \n",
       "2            married                 0      M    employee     0     23341.752   \n",
       "3            married                 0      M    employee     0     42820.568   \n",
       "4  civil partnership                 1      F     retiree     0     25378.572   \n",
       "\n",
       "                   purpose  \n",
       "0    purchase of the house  \n",
       "1             car purchase  \n",
       "2    purchase of the house  \n",
       "3  supplementary education  \n",
       "4        to have a wedding  "
      ]
     },
     "execution_count": 3,
     "metadata": {},
     "output_type": "execute_result"
    }
   ],
   "source": [
    "data_credit_scoring.head()"
   ]
  },
  {
   "cell_type": "markdown",
   "id": "b0a7ef65",
   "metadata": {},
   "source": [
    "***Primer vistazo a los datos***\n",
    "\n",
    "De una revisión de las primeras 5 filas de la base de datos podemos identificamos algunos problemas con los datos: \n",
    "\n",
    "* En la columna `days_employed` la mayoría de los datos parecen ser negativos. Lo cual no tiene sentido por lo que mide la variable. \n",
    "\n",
    "* En `days_employed`, identificamos observaciones imposibles, por ejemplo, 340266.072047 días que representan más de 900 años, lo cual es evidentemente un error. \n",
    "\n",
    "* En la columna `education` hay filas que tienen cadenas de string en mayúsculas, otras que solo empiezan en mayúscula, etc. Se sugiere poner todas las cadenas en minúscula. "
   ]
  },
  {
   "cell_type": "markdown",
   "id": "951e24ad",
   "metadata": {},
   "source": [
    "***Comentarios sobre el tipo de datos***\n",
    "1. Solo dos columnas presentan datos perdidos: `days_employed` y `total_income`. Estas son de tipo numérico. Ambas tienen la misma cantidad de datos perdidos, luego parece ser que los datos que faltan en ambas columnas se refieren a las mismas filas. Es decir, las personas que no respondieron a los días empleados tampoco pudieron responder el ingreso total. Debemos confirmar esta hipótesis.\n",
    "\n",
    "2. El tipo de datos en `days_employed` es `float64`, lo lógico es que estos datos sean enteros. Además, las columnas `education_id`, `family_status_id` y `debt` aparecen como datos de tipo `int64`, aunque son variables categoricas. Evaluar si esto puede afectar al análisis que vamos hacer.  "
   ]
  },
  {
   "cell_type": "code",
   "execution_count": 4,
   "id": "fcf40f77",
   "metadata": {},
   "outputs": [],
   "source": [
    "data_credit_scoring['education'] = data_credit_scoring['education'].str.lower()\n",
    "# hemos puesto en minúsculas todos los valores únicos de esta columna"
   ]
  },
  {
   "cell_type": "code",
   "execution_count": 5,
   "id": "7afa4cb6",
   "metadata": {
    "scrolled": true
   },
   "outputs": [
    {
     "data": {
      "text/plain": [
       "days_employed    2174\n",
       "total_income     2174\n",
       "dtype: int64"
      ]
     },
     "execution_count": 5,
     "metadata": {},
     "output_type": "execute_result"
    }
   ],
   "source": [
    "data_employed_income = data_credit_scoring.loc[:,['days_employed', 'total_income']]\n",
    "data_employed_income.isna().sum()"
   ]
  },
  {
   "cell_type": "code",
   "execution_count": 6,
   "id": "9311167b",
   "metadata": {},
   "outputs": [
    {
     "data": {
      "text/html": [
       "<div>\n",
       "<style scoped>\n",
       "    .dataframe tbody tr th:only-of-type {\n",
       "        vertical-align: middle;\n",
       "    }\n",
       "\n",
       "    .dataframe tbody tr th {\n",
       "        vertical-align: top;\n",
       "    }\n",
       "\n",
       "    .dataframe thead th {\n",
       "        text-align: right;\n",
       "    }\n",
       "</style>\n",
       "<table border=\"1\" class=\"dataframe\">\n",
       "  <thead>\n",
       "    <tr style=\"text-align: right;\">\n",
       "      <th></th>\n",
       "      <th>days_employed</th>\n",
       "      <th>total_income</th>\n",
       "    </tr>\n",
       "  </thead>\n",
       "  <tbody>\n",
       "    <tr>\n",
       "      <th>12</th>\n",
       "      <td>NaN</td>\n",
       "      <td>NaN</td>\n",
       "    </tr>\n",
       "    <tr>\n",
       "      <th>26</th>\n",
       "      <td>NaN</td>\n",
       "      <td>NaN</td>\n",
       "    </tr>\n",
       "    <tr>\n",
       "      <th>29</th>\n",
       "      <td>NaN</td>\n",
       "      <td>NaN</td>\n",
       "    </tr>\n",
       "    <tr>\n",
       "      <th>41</th>\n",
       "      <td>NaN</td>\n",
       "      <td>NaN</td>\n",
       "    </tr>\n",
       "    <tr>\n",
       "      <th>55</th>\n",
       "      <td>NaN</td>\n",
       "      <td>NaN</td>\n",
       "    </tr>\n",
       "    <tr>\n",
       "      <th>65</th>\n",
       "      <td>NaN</td>\n",
       "      <td>NaN</td>\n",
       "    </tr>\n",
       "    <tr>\n",
       "      <th>67</th>\n",
       "      <td>NaN</td>\n",
       "      <td>NaN</td>\n",
       "    </tr>\n",
       "    <tr>\n",
       "      <th>72</th>\n",
       "      <td>NaN</td>\n",
       "      <td>NaN</td>\n",
       "    </tr>\n",
       "    <tr>\n",
       "      <th>82</th>\n",
       "      <td>NaN</td>\n",
       "      <td>NaN</td>\n",
       "    </tr>\n",
       "    <tr>\n",
       "      <th>83</th>\n",
       "      <td>NaN</td>\n",
       "      <td>NaN</td>\n",
       "    </tr>\n",
       "  </tbody>\n",
       "</table>\n",
       "</div>"
      ],
      "text/plain": [
       "    days_employed  total_income\n",
       "12            NaN           NaN\n",
       "26            NaN           NaN\n",
       "29            NaN           NaN\n",
       "41            NaN           NaN\n",
       "55            NaN           NaN\n",
       "65            NaN           NaN\n",
       "67            NaN           NaN\n",
       "72            NaN           NaN\n",
       "82            NaN           NaN\n",
       "83            NaN           NaN"
      ]
     },
     "execution_count": 6,
     "metadata": {},
     "output_type": "execute_result"
    }
   ],
   "source": [
    "data_employed_income[data_employed_income['days_employed'].isna()].head(10)"
   ]
  },
  {
   "cell_type": "markdown",
   "id": "aaf97ae3",
   "metadata": {},
   "source": [
    "La cantidad de datos faltantes es la misma en ambas columnas. Además, observando las 10 primera filas vemos que estos valores ausentes están presentes en ambas columnas a la vez. \n",
    "\n",
    "En otras palabras, `2174` personas encuestadas no aportaron datos sobre los días que llevan empleados ni sobre su ingreso total. Una primera **hipótesis** para explicar esto sería que estas personas perciben que sus ingresos y su antiguedad no son suficientes para que sea aprovada su solicitud de crédito, luego han decidido no dar información. Si nos fijamos solo en el total de ingresos, hay varias caraterísticas del solicitante, que son medidas en la tabla, que tienen diferentes niveles de influencia en el total de ingresos. En este caso estás columnas serían: `gender`, `education`, `income_type` y `dob_years`. En efecto, por regla general las mujeres tienen menos ingresos que los hombres, además, el nivel educacional y el tipo de empleo influyen directamente en la cantidad de ingresos, así como la edad la edad indirectamente también."
   ]
  },
  {
   "cell_type": "code",
   "execution_count": 7,
   "id": "cfcc4dd0",
   "metadata": {
    "scrolled": false
   },
   "outputs": [],
   "source": [
    "def group_age(age):\n",
    "    if 0 <= age < 10:\n",
    "        return '0-9'\n",
    "    elif 10 <= age < 20:\n",
    "        return '10-19'\n",
    "    elif 20 <= age < 30:\n",
    "        return '20-29'\n",
    "    elif 30 <= age < 40:\n",
    "        return '30-39'\n",
    "    elif 40 <= age < 50:\n",
    "        return '40-49'\n",
    "    elif 50 <= age < 60:\n",
    "        return '50-59'\n",
    "    elif 60 <= age < 70:\n",
    "        return '60-69'\n",
    "    elif age >= 70:\n",
    "        return '70+'\n",
    "data_credit_scoring['age_group'] = data_credit_scoring['dob_years'].apply(group_age)"
   ]
  },
  {
   "cell_type": "markdown",
   "id": "3265ac53",
   "metadata": {},
   "source": [
    "Hemos creado una nueva columna, `age_group`, para describir la distribución el ingreso total por grupos de edad. "
   ]
  },
  {
   "cell_type": "code",
   "execution_count": 9,
   "id": "9fb1d8d7",
   "metadata": {},
   "outputs": [
    {
     "data": {
      "image/png": "[encoded data removed]",
      "text/plain": [
       "<Figure size 432x288 with 1 Axes>"
      ]
     },
     "metadata": {},
     "output_type": "display_data"
    }
   ],
   "source": [
    "data_credit_scoring.groupby('age_group')['total_income'].mean().drop(index = ['0-9']).sort_values().plot(kind = 'bar')\n",
    "plt.xlabel('grupos de edad')\n",
    "plt.ylabel('salario promedio')\n",
    "plt.show()"
   ]
  },
  {
   "cell_type": "markdown",
   "id": "bc9985db",
   "metadata": {},
   "source": [
    "Los grupos etarios que perciben mayores ingresos promedio son los grupos de `30-39` y `40-49` con medias de `28 312` y `28 551`, las cuales están por encima de la media y la mediana globales. "
   ]
  },
  {
   "cell_type": "code",
   "execution_count": 10,
   "id": "dbc03843",
   "metadata": {},
   "outputs": [],
   "source": [
    "data_filtered = data_credit_scoring.query('days_employed.isna() and total_income.isna()')"
   ]
  },
  {
   "cell_type": "code",
   "execution_count": 11,
   "id": "8b9e659b",
   "metadata": {},
   "outputs": [
    {
     "data": {
      "image/png": "[encoded data removed]",
      "text/plain": [
       "<Figure size 432x288 with 1 Axes>"
      ]
     },
     "metadata": {},
     "output_type": "display_data"
    }
   ],
   "source": [
    "data = data_filtered['age_group'].value_counts()\n",
    "data = data.loc['30-39':'60-69'].append(pd.Series(data = [data['70+'] + data['0-9'] + data['10-19']], index = ['19-70+']))\n",
    "plt.pie(data, labels = data.index, autopct=\"%0.1f %%\")\n",
    "plt.title('Distribución de los grupos de edades en los registros que tienen datos faltantes de antiguedad y ingresos totales')\n",
    "plt.show()"
   ]
  },
  {
   "cell_type": "code",
   "execution_count": 12,
   "id": "0a35e5f1",
   "metadata": {},
   "outputs": [
    {
     "data": {
      "image/png": "[encoded data removed]",
      "text/plain": [
       "<Figure size 432x288 with 1 Axes>"
      ]
     },
     "metadata": {},
     "output_type": "display_data"
    }
   ],
   "source": [
    "data = data_credit_scoring['age_group'].value_counts()\n",
    "data = data.loc['30-39':'60-69'].append(pd.Series(data = [data['70+'] + data['0-9'] + data['10-19']], index = ['19-70+']))\n",
    "plt.pie(data, labels = data.index, autopct=\"%0.1f %%\")\n",
    "plt.title('Distribución de los grupos de edades en la tabla completa')\n",
    "plt.show()"
   ]
  },
  {
   "cell_type": "markdown",
   "id": "4e9fe15c",
   "metadata": {},
   "source": [
    "Cuando hacemos un análisis de la distribución de los grupos de edad en la tabla completa y en la tabla filtrada se puede observar que hay una ligera diferencia de las distribuciones entre estos dos datasets. Los grupos de edad `50-59` y `20-29` son más frecuentes en la tabla filtrada.\n",
    "\n"
   ]
  },
  {
   "cell_type": "code",
   "execution_count": 13,
   "id": "089ddc67",
   "metadata": {
    "scrolled": true
   },
   "outputs": [
    {
     "data": {
      "image/png": "[encoded data removed]",
      "text/plain": [
       "<Figure size 432x288 with 1 Axes>"
      ]
     },
     "metadata": {},
     "output_type": "display_data"
    }
   ],
   "source": [
    "data_credit_scoring.groupby('gender')['total_income'].mean().plot(kind = 'bar')\n",
    "plt.ylabel('salario promedio')\n",
    "plt.xlabel('género')\n",
    "plt.show()"
   ]
  },
  {
   "cell_type": "markdown",
   "id": "9e3b2c41",
   "metadata": {},
   "source": [
    "El ingreso medio de las mujeres es `1.25` veces menor que el de los hombres. El salario medio de las mujeres está por debajo de la media global y apenas un poco por encima de la mediana goblal. "
   ]
  },
  {
   "cell_type": "code",
   "execution_count": 14,
   "id": "4fb74ddb",
   "metadata": {},
   "outputs": [
    {
     "data": {
      "image/png": "[encoded data removed]",
      "text/plain": [
       "<Figure size 432x288 with 1 Axes>"
      ]
     },
     "metadata": {},
     "output_type": "display_data"
    }
   ],
   "source": [
    "filtered_frec_gender = data_filtered['gender'].value_counts()\n",
    "plt.pie(filtered_frec_gender, labels = filtered_frec_gender.index, autopct=\"%0.1f %%\")\n",
    "plt.title('Distribución por género en los registros que tienen datos faltantes de antiguedad y ingresos totales')\n",
    "plt.show()"
   ]
  },
  {
   "cell_type": "markdown",
   "id": "a636a582",
   "metadata": {},
   "source": [
    "Note que en el conjunto de datos filtrados hay dos veces más mujeres que hombres. Veamos la distribución por genero en la tabla completa. "
   ]
  },
  {
   "cell_type": "code",
   "execution_count": 15,
   "id": "e11d55d4",
   "metadata": {},
   "outputs": [
    {
     "data": {
      "image/png": "[encoded data removed]",
      "text/plain": [
       "<Figure size 432x288 with 1 Axes>"
      ]
     },
     "metadata": {},
     "output_type": "display_data"
    }
   ],
   "source": [
    "global_frec_gender = data_credit_scoring['gender'].value_counts()\n",
    "plt.pie(global_frec_gender, labels = global_frec_gender.index, autopct=\"%0.1f %%\")\n",
    "plt.title('Distribución por género en la tabla global')\n",
    "plt.show()"
   ]
  },
  {
   "cell_type": "markdown",
   "id": "5b441b39",
   "metadata": {},
   "source": [
    "El `68%` de los encuestados en la tabla filtrada son mujeres. En la tabla global, el `66%` son mujeres. \n",
    "\n",
    "***En la tabla filtrada hay un 2% más mujeres que en la tabla global.*** "
   ]
  },
  {
   "cell_type": "code",
   "execution_count": 16,
   "id": "ab2be24f",
   "metadata": {},
   "outputs": [
    {
     "data": {
      "image/png": "[encoded data removed]",
      "text/plain": [
       "<Figure size 432x288 with 1 Axes>"
      ]
     },
     "metadata": {},
     "output_type": "display_data"
    }
   ],
   "source": [
    "data = data_credit_scoring.groupby('education')['total_income'].mean().sort_values()\n",
    "plt.barh(data.index, data, color = 'blue')\n",
    "plt.show()"
   ]
  },
  {
   "cell_type": "markdown",
   "id": "e9237d2c",
   "metadata": {},
   "source": [
    "**Existen diferencias del ingreso promedio entre las diferentes categorías educativas**, siendo que la categoría de `primary education` es la de menor ingreso medio con `21 144` y `bachelor's degree` la de mayor ingreso medio con `33 142`. Vamos analizar la distribución de estas categorías en la tabla filtrada. "
   ]
  },
  {
   "cell_type": "code",
   "execution_count": 17,
   "id": "afdea760",
   "metadata": {
    "scrolled": true
   },
   "outputs": [
    {
     "data": {
      "image/png": "[encoded data removed]",
      "text/plain": [
       "<Figure size 432x288 with 1 Axes>"
      ]
     },
     "metadata": {},
     "output_type": "display_data"
    }
   ],
   "source": [
    "data = data_filtered['education'].value_counts()\n",
    "plt.pie(data, labels = data.index, autopct=\"%0.1f %%\")\n",
    "plt.show()"
   ]
  },
  {
   "cell_type": "code",
   "execution_count": 18,
   "id": "c6477847",
   "metadata": {},
   "outputs": [
    {
     "data": {
      "image/png": "[encoded data removed]",
      "text/plain": [
       "<Figure size 432x288 with 1 Axes>"
      ]
     },
     "metadata": {},
     "output_type": "display_data"
    }
   ],
   "source": [
    "data = data_credit_scoring['education'].value_counts()\n",
    "plt.pie(data, labels = data.index, autopct=\"%0.1f %%\")\n",
    "plt.show()"
   ]
  },
  {
   "cell_type": "markdown",
   "id": "afe794e5",
   "metadata": {},
   "source": [
    "La frecuencia porcentual por nivel educativo no varia significativamente en los datos globales con respecto a la tabla filtrada."
   ]
  },
  {
   "cell_type": "code",
   "execution_count": 19,
   "id": "a9a2b8d2",
   "metadata": {},
   "outputs": [
    {
     "data": {
      "image/png": "[encoded data removed]",
      "text/plain": [
       "<Figure size 432x288 with 1 Axes>"
      ]
     },
     "metadata": {},
     "output_type": "display_data"
    }
   ],
   "source": [
    "data = data_credit_scoring.groupby('income_type')['total_income'].mean().sort_values()\n",
    "plt.barh(data.index, data, color = 'blue')\n",
    "plt.xlabel('ingreso promedio')\n",
    "plt.show()"
   ]
  },
  {
   "cell_type": "markdown",
   "id": "c8734b93",
   "metadata": {},
   "source": [
    "De nuevo, **existen diferencias sustanciales del ingreso medio entre los diferentes tipos de ingresos.** La categoría `paternity / maternity leave` presenta el menor ingreso medio con `8 612` y la categoría `entrepreneur` presenta el máximo ingreso medio, con una diferencia sustancial con el segundo lugar de `79 866`. "
   ]
  },
  {
   "cell_type": "code",
   "execution_count": 20,
   "id": "f6c0f807",
   "metadata": {
    "scrolled": true
   },
   "outputs": [
    {
     "data": {
      "image/png": "[encoded data removed]",
      "text/plain": [
       "<Figure size 432x288 with 1 Axes>"
      ]
     },
     "metadata": {},
     "output_type": "display_data"
    }
   ],
   "source": [
    "filtered_frec_income_type = data_filtered['income_type'].value_counts()\n",
    "plt.pie(filtered_frec_income_type, labels = filtered_frec_income_type.index, autopct=\"%0.1f %%\")\n",
    "plt.title('Distribución del tipo de empleo en los datos que tienen datos faltantes en las columnas ingreso y antiguedad')\n",
    "plt.show()"
   ]
  },
  {
   "cell_type": "markdown",
   "id": "efa7d7fd",
   "metadata": {},
   "source": [
    "Aquí los encuestados que están en la categoría de empleados son los que más aparecen en la tabla filtrada con el `50.8%`de los datos y con un ingreso promedio de casi `26 000` más cercano a la media global y por encima de la mediana global. Los segundos son los que están en la categoría `bussiness`, seguidos por la categoría `retiree`."
   ]
  },
  {
   "cell_type": "code",
   "execution_count": 21,
   "id": "191b410f",
   "metadata": {
    "scrolled": true
   },
   "outputs": [
    {
     "data": {
      "image/png": "[encoded data removed]",
      "text/plain": [
       "<Figure size 432x288 with 1 Axes>"
      ]
     },
     "metadata": {},
     "output_type": "display_data"
    }
   ],
   "source": [
    "data = data_credit_scoring['income_type'].value_counts()\n",
    "data = data.loc['employee':'civil servant'].append(pd.Series(data = [data['unemployed'] + data['entrepreneur'] + data['student'] + data['paternity / maternity leave']], index = ['others']))\n",
    "plt.pie(data, labels = data.index, autopct=\"%0.1f %%\")\n",
    "plt.title('Distribución del tipo de empleo en la tabla global')\n",
    "plt.show()"
   ]
  },
  {
   "cell_type": "markdown",
   "id": "c00e36dc",
   "metadata": {},
   "source": [
    "Los empleados son la categoría que más se repite tanto en los datos globales, siendo `1.6%` más frecuente que en la tabla filtrada. Los emprendedores aunque son los que más ingresos totales perciben, es una categoría con muy pocos elementos."
   ]
  },
  {
   "cell_type": "markdown",
   "id": "cb3c4b9a",
   "metadata": {},
   "source": [
    "### Conclusiones parciales de este estudio\n",
    "\n",
    "* Existen diferencias sustanciales entre los ingresos medios de las categorías: `gender`, `education`, `income_type` y `age_group`.\n",
    "\n",
    "* Las `mujeres` son un `2%` más frecuentes en la tabla filtrada y los grupos de edades de `30-49` son menos frecuentes en la tabla filtrada. En otras palabras, las categorías con menos ingresos parecen ser ligeramente más frecuentres en las tabla filtrada. **Esto podría tomarse como una evidencia de que los datos faltantes están asociados a ingresos más bajos.**"
   ]
  },
  {
   "cell_type": "markdown",
   "id": "a97a706e",
   "metadata": {},
   "source": [
    "## Transformación de datos\n",
    "\n",
    "Vamos a ir columna por columna en donde existen valores no válidos. En esta sección, también vamos a resolver el tema de los duplicados. "
   ]
  },
  {
   "cell_type": "code",
   "execution_count": 22,
   "id": "3356b3ce",
   "metadata": {},
   "outputs": [
    {
     "data": {
      "text/plain": [
       "array([\"bachelor's degree\", 'secondary education', 'some college',\n",
       "       'primary education', 'graduate degree'], dtype=object)"
      ]
     },
     "execution_count": 22,
     "metadata": {},
     "output_type": "execute_result"
    }
   ],
   "source": [
    "data_credit_scoring['education'].unique()"
   ]
  },
  {
   "cell_type": "code",
   "execution_count": 23,
   "id": "6b3685a8",
   "metadata": {},
   "outputs": [
    {
     "data": {
      "text/plain": [
       "array([\"bachelors's_degree\", 'secondary_education', 'some_college',\n",
       "       'primary_education', 'graduate_degree'], dtype=object)"
      ]
     },
     "execution_count": 23,
     "metadata": {},
     "output_type": "execute_result"
    }
   ],
   "source": [
    "education_correct_values = [\"bachelors's_degree\", \"secondary_education\", \n",
    "                           \"some_college\", \"primary_education\", \"graduate_degree\"]\n",
    "education_wrong_values = [\"bachelor's degree\", 'secondary education', 'some college',\n",
    "       'primary education', 'graduate degree']\n",
    "for i in range(len(education_correct_values)):\n",
    "    data_credit_scoring['education'] = data_credit_scoring['education'].replace(education_wrong_values[i], education_correct_values[i])\n",
    "\n",
    "data_credit_scoring['education'].unique()"
   ]
  },
  {
   "cell_type": "markdown",
   "id": "aea38e28",
   "metadata": {},
   "source": [
    "Hemos solucionado el problema de la existencia de valores repetidos debido a las mayúscular en la columana `education`."
   ]
  },
  {
   "cell_type": "code",
   "execution_count": 24,
   "id": "2b1929fd",
   "metadata": {},
   "outputs": [
    {
     "data": {
      "text/plain": [
       "array([ 1,  0,  3,  2, -1,  4, 20,  5], dtype=int64)"
      ]
     },
     "execution_count": 24,
     "metadata": {},
     "output_type": "execute_result"
    }
   ],
   "source": [
    "data_credit_scoring['children'].unique()"
   ]
  },
  {
   "cell_type": "markdown",
   "id": "74b22347",
   "metadata": {},
   "source": [
    "Cuando mostramos los valores únicos de la columna `children` vemos que existen filas con el valor `-1`, lo que es un valor inválido para el número de hijos. **Arreglamos este problema sustituyendo la columna por su valor absoluto. Con esto eliminamos los valores negativos.**"
   ]
  },
  {
   "cell_type": "code",
   "execution_count": 25,
   "id": "88a8ff2d",
   "metadata": {},
   "outputs": [],
   "source": [
    "data_credit_scoring['children'] = abs(data_credit_scoring['children'])"
   ]
  },
  {
   "cell_type": "code",
   "execution_count": 30,
   "id": "fb66f23d",
   "metadata": {},
   "outputs": [
    {
     "data": {
      "text/plain": [
       "76"
      ]
     },
     "execution_count": 30,
     "metadata": {},
     "output_type": "execute_result"
    }
   ],
   "source": [
    "len_children_20 = len(data_credit_scoring[data_credit_scoring['children'] == 20])\n",
    "len_children_20"
   ]
  },
  {
   "cell_type": "markdown",
   "id": "89ffa4cd",
   "metadata": {},
   "source": [
    "La cantidad de clientes con 20 hijos es 76, estos clientes pueden haber querido poner 2 o 0 hijos. "
   ]
  },
  {
   "cell_type": "code",
   "execution_count": 32,
   "id": "b9dd8b65",
   "metadata": {},
   "outputs": [
    {
     "data": {
      "text/plain": [
       "0    87.0\n",
       "2    13.0\n",
       "Name: children, dtype: float64"
      ]
     },
     "execution_count": 32,
     "metadata": {},
     "output_type": "execute_result"
    }
   ],
   "source": [
    "data_filtered_0_2 = data_credit_scoring.loc[(data_credit_scoring['children'] == 0) | (data_credit_scoring['children'] == 2)]\n",
    "dis = round(data_filtered_0_2['children'].value_counts()/len(data_filtered_0_2)*100)\n",
    "dis"
   ]
  },
  {
   "cell_type": "markdown",
   "id": "47ce45c0",
   "metadata": {},
   "source": [
    "Si nos fijamos en los encuestados con 0 o 2 hijos, la distribución: el `87%` no tiene hijos y el `13%` tiene dos hijos. Vamos a tomar una partición aleatoria de las filas con `20` hijos y vamos a corregir el dato con 0 o 2 siguiendo la distribución anterior. "
   ]
  },
  {
   "cell_type": "code",
   "execution_count": 33,
   "id": "1dc82ade",
   "metadata": {
    "scrolled": true
   },
   "outputs": [
    {
     "data": {
      "text/html": [
       "<div>\n",
       "<style scoped>\n",
       "    .dataframe tbody tr th:only-of-type {\n",
       "        vertical-align: middle;\n",
       "    }\n",
       "\n",
       "    .dataframe tbody tr th {\n",
       "        vertical-align: top;\n",
       "    }\n",
       "\n",
       "    .dataframe thead th {\n",
       "        text-align: right;\n",
       "    }\n",
       "</style>\n",
       "<table border=\"1\" class=\"dataframe\">\n",
       "  <thead>\n",
       "    <tr style=\"text-align: right;\">\n",
       "      <th></th>\n",
       "      <th>children</th>\n",
       "      <th>days_employed</th>\n",
       "      <th>dob_years</th>\n",
       "      <th>education</th>\n",
       "      <th>education_id</th>\n",
       "      <th>family_status</th>\n",
       "      <th>family_status_id</th>\n",
       "      <th>gender</th>\n",
       "      <th>income_type</th>\n",
       "      <th>debt</th>\n",
       "      <th>total_income</th>\n",
       "      <th>purpose</th>\n",
       "      <th>age_group</th>\n",
       "      <th>ramdom_partition</th>\n",
       "    </tr>\n",
       "  </thead>\n",
       "  <tbody>\n",
       "    <tr>\n",
       "      <th>606</th>\n",
       "      <td>20</td>\n",
       "      <td>-880.221113</td>\n",
       "      <td>21</td>\n",
       "      <td>secondary_education</td>\n",
       "      <td>1</td>\n",
       "      <td>married</td>\n",
       "      <td>0</td>\n",
       "      <td>M</td>\n",
       "      <td>business</td>\n",
       "      <td>0</td>\n",
       "      <td>23253.578</td>\n",
       "      <td>purchase of the house</td>\n",
       "      <td>20-29</td>\n",
       "      <td>True</td>\n",
       "    </tr>\n",
       "    <tr>\n",
       "      <th>720</th>\n",
       "      <td>20</td>\n",
       "      <td>-855.595512</td>\n",
       "      <td>44</td>\n",
       "      <td>secondary_education</td>\n",
       "      <td>1</td>\n",
       "      <td>married</td>\n",
       "      <td>0</td>\n",
       "      <td>F</td>\n",
       "      <td>business</td>\n",
       "      <td>0</td>\n",
       "      <td>18079.798</td>\n",
       "      <td>buy real estate</td>\n",
       "      <td>40-49</td>\n",
       "      <td>True</td>\n",
       "    </tr>\n",
       "    <tr>\n",
       "      <th>1074</th>\n",
       "      <td>20</td>\n",
       "      <td>-3310.411598</td>\n",
       "      <td>56</td>\n",
       "      <td>secondary_education</td>\n",
       "      <td>1</td>\n",
       "      <td>married</td>\n",
       "      <td>0</td>\n",
       "      <td>F</td>\n",
       "      <td>employee</td>\n",
       "      <td>1</td>\n",
       "      <td>36722.966</td>\n",
       "      <td>getting an education</td>\n",
       "      <td>50-59</td>\n",
       "      <td>True</td>\n",
       "    </tr>\n",
       "    <tr>\n",
       "      <th>2510</th>\n",
       "      <td>20</td>\n",
       "      <td>-2714.161249</td>\n",
       "      <td>59</td>\n",
       "      <td>bachelors's_degree</td>\n",
       "      <td>0</td>\n",
       "      <td>widow / widower</td>\n",
       "      <td>2</td>\n",
       "      <td>F</td>\n",
       "      <td>employee</td>\n",
       "      <td>0</td>\n",
       "      <td>42315.974</td>\n",
       "      <td>transactions with commercial real estate</td>\n",
       "      <td>50-59</td>\n",
       "      <td>True</td>\n",
       "    </tr>\n",
       "    <tr>\n",
       "      <th>2941</th>\n",
       "      <td>20</td>\n",
       "      <td>-2161.591519</td>\n",
       "      <td>0</td>\n",
       "      <td>secondary_education</td>\n",
       "      <td>1</td>\n",
       "      <td>married</td>\n",
       "      <td>0</td>\n",
       "      <td>F</td>\n",
       "      <td>employee</td>\n",
       "      <td>0</td>\n",
       "      <td>31958.391</td>\n",
       "      <td>to buy a car</td>\n",
       "      <td>0-9</td>\n",
       "      <td>False</td>\n",
       "    </tr>\n",
       "    <tr>\n",
       "      <th>3302</th>\n",
       "      <td>20</td>\n",
       "      <td>NaN</td>\n",
       "      <td>35</td>\n",
       "      <td>secondary_education</td>\n",
       "      <td>1</td>\n",
       "      <td>unmarried</td>\n",
       "      <td>4</td>\n",
       "      <td>F</td>\n",
       "      <td>civil servant</td>\n",
       "      <td>0</td>\n",
       "      <td>NaN</td>\n",
       "      <td>profile education</td>\n",
       "      <td>30-39</td>\n",
       "      <td>True</td>\n",
       "    </tr>\n",
       "    <tr>\n",
       "      <th>3396</th>\n",
       "      <td>20</td>\n",
       "      <td>NaN</td>\n",
       "      <td>56</td>\n",
       "      <td>bachelors's_degree</td>\n",
       "      <td>0</td>\n",
       "      <td>married</td>\n",
       "      <td>0</td>\n",
       "      <td>F</td>\n",
       "      <td>business</td>\n",
       "      <td>0</td>\n",
       "      <td>NaN</td>\n",
       "      <td>university education</td>\n",
       "      <td>50-59</td>\n",
       "      <td>True</td>\n",
       "    </tr>\n",
       "    <tr>\n",
       "      <th>3671</th>\n",
       "      <td>20</td>\n",
       "      <td>-913.161503</td>\n",
       "      <td>23</td>\n",
       "      <td>secondary_education</td>\n",
       "      <td>1</td>\n",
       "      <td>unmarried</td>\n",
       "      <td>4</td>\n",
       "      <td>F</td>\n",
       "      <td>employee</td>\n",
       "      <td>0</td>\n",
       "      <td>16200.879</td>\n",
       "      <td>buying a second-hand car</td>\n",
       "      <td>20-29</td>\n",
       "      <td>True</td>\n",
       "    </tr>\n",
       "    <tr>\n",
       "      <th>3697</th>\n",
       "      <td>20</td>\n",
       "      <td>-2907.910616</td>\n",
       "      <td>40</td>\n",
       "      <td>secondary_education</td>\n",
       "      <td>1</td>\n",
       "      <td>civil partnership</td>\n",
       "      <td>1</td>\n",
       "      <td>M</td>\n",
       "      <td>employee</td>\n",
       "      <td>0</td>\n",
       "      <td>18460.911</td>\n",
       "      <td>buying a second-hand car</td>\n",
       "      <td>40-49</td>\n",
       "      <td>True</td>\n",
       "    </tr>\n",
       "    <tr>\n",
       "      <th>3735</th>\n",
       "      <td>20</td>\n",
       "      <td>-805.044438</td>\n",
       "      <td>26</td>\n",
       "      <td>bachelors's_degree</td>\n",
       "      <td>0</td>\n",
       "      <td>unmarried</td>\n",
       "      <td>4</td>\n",
       "      <td>M</td>\n",
       "      <td>employee</td>\n",
       "      <td>0</td>\n",
       "      <td>21952.103</td>\n",
       "      <td>housing renovation</td>\n",
       "      <td>20-29</td>\n",
       "      <td>True</td>\n",
       "    </tr>\n",
       "    <tr>\n",
       "      <th>3877</th>\n",
       "      <td>20</td>\n",
       "      <td>-8190.644409</td>\n",
       "      <td>45</td>\n",
       "      <td>secondary_education</td>\n",
       "      <td>1</td>\n",
       "      <td>civil partnership</td>\n",
       "      <td>1</td>\n",
       "      <td>F</td>\n",
       "      <td>employee</td>\n",
       "      <td>0</td>\n",
       "      <td>49963.223</td>\n",
       "      <td>second-hand car purchase</td>\n",
       "      <td>40-49</td>\n",
       "      <td>True</td>\n",
       "    </tr>\n",
       "    <tr>\n",
       "      <th>5020</th>\n",
       "      <td>20</td>\n",
       "      <td>-231.783475</td>\n",
       "      <td>37</td>\n",
       "      <td>secondary_education</td>\n",
       "      <td>1</td>\n",
       "      <td>civil partnership</td>\n",
       "      <td>1</td>\n",
       "      <td>M</td>\n",
       "      <td>business</td>\n",
       "      <td>0</td>\n",
       "      <td>41632.535</td>\n",
       "      <td>to have a wedding</td>\n",
       "      <td>30-39</td>\n",
       "      <td>True</td>\n",
       "    </tr>\n",
       "    <tr>\n",
       "      <th>5315</th>\n",
       "      <td>20</td>\n",
       "      <td>-2047.754733</td>\n",
       "      <td>24</td>\n",
       "      <td>secondary_education</td>\n",
       "      <td>1</td>\n",
       "      <td>married</td>\n",
       "      <td>0</td>\n",
       "      <td>F</td>\n",
       "      <td>employee</td>\n",
       "      <td>0</td>\n",
       "      <td>16066.438</td>\n",
       "      <td>buy commercial real estate</td>\n",
       "      <td>20-29</td>\n",
       "      <td>True</td>\n",
       "    </tr>\n",
       "    <tr>\n",
       "      <th>5349</th>\n",
       "      <td>20</td>\n",
       "      <td>361744.836360</td>\n",
       "      <td>64</td>\n",
       "      <td>secondary_education</td>\n",
       "      <td>1</td>\n",
       "      <td>widow / widower</td>\n",
       "      <td>2</td>\n",
       "      <td>F</td>\n",
       "      <td>retiree</td>\n",
       "      <td>0</td>\n",
       "      <td>13108.291</td>\n",
       "      <td>housing transactions</td>\n",
       "      <td>60-69</td>\n",
       "      <td>True</td>\n",
       "    </tr>\n",
       "    <tr>\n",
       "      <th>5362</th>\n",
       "      <td>20</td>\n",
       "      <td>355898.021316</td>\n",
       "      <td>69</td>\n",
       "      <td>secondary_education</td>\n",
       "      <td>1</td>\n",
       "      <td>married</td>\n",
       "      <td>0</td>\n",
       "      <td>M</td>\n",
       "      <td>retiree</td>\n",
       "      <td>0</td>\n",
       "      <td>22172.653</td>\n",
       "      <td>cars</td>\n",
       "      <td>60-69</td>\n",
       "      <td>False</td>\n",
       "    </tr>\n",
       "  </tbody>\n",
       "</table>\n",
       "</div>"
      ],
      "text/plain": [
       "      children  days_employed  dob_years            education  education_id  \\\n",
       "606         20    -880.221113         21  secondary_education             1   \n",
       "720         20    -855.595512         44  secondary_education             1   \n",
       "1074        20   -3310.411598         56  secondary_education             1   \n",
       "2510        20   -2714.161249         59   bachelors's_degree             0   \n",
       "2941        20   -2161.591519          0  secondary_education             1   \n",
       "3302        20            NaN         35  secondary_education             1   \n",
       "3396        20            NaN         56   bachelors's_degree             0   \n",
       "3671        20    -913.161503         23  secondary_education             1   \n",
       "3697        20   -2907.910616         40  secondary_education             1   \n",
       "3735        20    -805.044438         26   bachelors's_degree             0   \n",
       "3877        20   -8190.644409         45  secondary_education             1   \n",
       "5020        20    -231.783475         37  secondary_education             1   \n",
       "5315        20   -2047.754733         24  secondary_education             1   \n",
       "5349        20  361744.836360         64  secondary_education             1   \n",
       "5362        20  355898.021316         69  secondary_education             1   \n",
       "\n",
       "          family_status  family_status_id gender    income_type  debt  \\\n",
       "606             married                 0      M       business     0   \n",
       "720             married                 0      F       business     0   \n",
       "1074            married                 0      F       employee     1   \n",
       "2510    widow / widower                 2      F       employee     0   \n",
       "2941            married                 0      F       employee     0   \n",
       "3302          unmarried                 4      F  civil servant     0   \n",
       "3396            married                 0      F       business     0   \n",
       "3671          unmarried                 4      F       employee     0   \n",
       "3697  civil partnership                 1      M       employee     0   \n",
       "3735          unmarried                 4      M       employee     0   \n",
       "3877  civil partnership                 1      F       employee     0   \n",
       "5020  civil partnership                 1      M       business     0   \n",
       "5315            married                 0      F       employee     0   \n",
       "5349    widow / widower                 2      F        retiree     0   \n",
       "5362            married                 0      M        retiree     0   \n",
       "\n",
       "      total_income                                   purpose age_group  \\\n",
       "606      23253.578                     purchase of the house     20-29   \n",
       "720      18079.798                           buy real estate     40-49   \n",
       "1074     36722.966                      getting an education     50-59   \n",
       "2510     42315.974  transactions with commercial real estate     50-59   \n",
       "2941     31958.391                              to buy a car       0-9   \n",
       "3302           NaN                         profile education     30-39   \n",
       "3396           NaN                      university education     50-59   \n",
       "3671     16200.879                  buying a second-hand car     20-29   \n",
       "3697     18460.911                  buying a second-hand car     40-49   \n",
       "3735     21952.103                        housing renovation     20-29   \n",
       "3877     49963.223                  second-hand car purchase     40-49   \n",
       "5020     41632.535                         to have a wedding     30-39   \n",
       "5315     16066.438                buy commercial real estate     20-29   \n",
       "5349     13108.291                      housing transactions     60-69   \n",
       "5362     22172.653                                      cars     60-69   \n",
       "\n",
       "      ramdom_partition  \n",
       "606               True  \n",
       "720               True  \n",
       "1074              True  \n",
       "2510              True  \n",
       "2941             False  \n",
       "3302              True  \n",
       "3396              True  \n",
       "3671              True  \n",
       "3697              True  \n",
       "3735              True  \n",
       "3877              True  \n",
       "5020              True  \n",
       "5315              True  \n",
       "5349              True  \n",
       "5362             False  "
      ]
     },
     "execution_count": 33,
     "metadata": {},
     "output_type": "execute_result"
    }
   ],
   "source": [
    "data_filtered_20 = data_credit_scoring[data_credit_scoring['children'] == 20]\n",
    "partition = 0.87 \n",
    "data_filtered_20['ramdom_partition'] = np.random.uniform(0, 1, len(data_filtered_20)) <= partition"
   ]
  },
  {
   "cell_type": "code",
   "execution_count": 34,
   "id": "8fbee4dc",
   "metadata": {},
   "outputs": [
    {
     "data": {
      "text/plain": [
       "array([1, 0, 3, 2, 4, 5], dtype=int64)"
      ]
     },
     "execution_count": 34,
     "metadata": {},
     "output_type": "execute_result"
    }
   ],
   "source": [
    "data_credit_scoring.loc[data_filtered_20[data_filtered_20['ramdom_partition'] == True].index, 'children'] = 0\n",
    "data_credit_scoring.loc[data_filtered_20[data_filtered_20['ramdom_partition'] == False].index, 'children'] = 2\n",
    "data_credit_scoring['children'].unique()"
   ]
  },
  {
   "cell_type": "markdown",
   "id": "3d383ec1",
   "metadata": {},
   "source": [
    "Hemos resuelto el problema de las filas que tenían `20` hijos siguiendo el procedimiento que habíamos planteado. "
   ]
  },
  {
   "cell_type": "code",
   "execution_count": 35,
   "id": "841b2e72",
   "metadata": {},
   "outputs": [
    {
     "name": "stdout",
     "output_type": "stream",
     "text": [
      "3445\n",
      "\n",
      "59.12481857764877\n",
      "\n",
      "retiree       3443\n",
      "unemployed       2\n",
      "Name: income_type, dtype: int64\n"
     ]
    }
   ],
   "source": [
    "data_days_employed_filtered = data_credit_scoring[data_credit_scoring['days_employed'] >= 300000]\n",
    "print(len(data_days_employed_filtered))\n",
    "print()\n",
    "print(data_days_employed_filtered['dob_years'].mean())\n",
    "print()\n",
    "print(data_days_employed_filtered['income_type'].value_counts())"
   ]
  },
  {
   "cell_type": "code",
   "execution_count": 36,
   "id": "4473b1a7",
   "metadata": {},
   "outputs": [
    {
     "name": "stdout",
     "output_type": "stream",
     "text": [
      "15906\n"
     ]
    }
   ],
   "source": [
    "data_days_employed_filtered_2 = data_credit_scoring[data_credit_scoring['days_employed'] < 0]\n",
    "print(len(data_days_employed_filtered_2))"
   ]
  },
  {
   "cell_type": "markdown",
   "id": "146ef089",
   "metadata": {},
   "source": [
    "En la columna `days_employed` hemos identificado dos tipos de valores inválidos:\n",
    "\n",
    "* En primer lugar, `15906` filas que tienen valores negativos. Este problema podemos resolverlo tomando el valor absoluto de la columna.\n",
    "\n",
    "* En segundo lugar, `3445` filas que tienen valores mayores a `300000` días, lo que representa más de `820` años antiguedad. Evidentemente, estos son datos erróneos. De estos `3445` encuestados, `3443` son `retirados` y solo dos están en la categoría de `desempleados`. Además, el promedio de edad en este grupo es de `59` años. Nosotros postulamos que esto se debe a un error humano en el cálculo de la antiguedad. Es probable que los encuestados esten dando los datos en `horas` y **no** en `días`. "
   ]
  },
  {
   "cell_type": "code",
   "execution_count": 37,
   "id": "3ff634a1",
   "metadata": {
    "scrolled": false
   },
   "outputs": [
    {
     "name": "stdout",
     "output_type": "stream",
     "text": [
      "   children  days_employed  dob_years            education  education_id  \\\n",
      "0         1    8437.673028         42   bachelors's_degree             0   \n",
      "1         1    4024.803754         36  secondary_education             1   \n",
      "2         0    5623.422610         33  secondary_education             1   \n",
      "3         3    4124.747207         32  secondary_education             1   \n",
      "4         0   14193.956148         53  secondary_education             1   \n",
      "5         0     926.185831         27   bachelors's_degree             0   \n",
      "6         0    2879.202052         43   bachelors's_degree             0   \n",
      "7         0     152.779569         50  secondary_education             1   \n",
      "8         2    6929.865299         35   bachelors's_degree             0   \n",
      "9         0    2188.756445         41  secondary_education             1   \n",
      "\n",
      "       family_status  family_status_id gender income_type  debt  total_income  \\\n",
      "0            married                 0      F    employee     0     40620.102   \n",
      "1            married                 0      F    employee     0     17932.802   \n",
      "2            married                 0      M    employee     0     23341.752   \n",
      "3            married                 0      M    employee     0     42820.568   \n",
      "4  civil partnership                 1      F     retiree     0     25378.572   \n",
      "5  civil partnership                 1      M    business     0     40922.170   \n",
      "6            married                 0      F    business     0     38484.156   \n",
      "7            married                 0      M    employee     0     21731.829   \n",
      "8  civil partnership                 1      F    employee     0     15337.093   \n",
      "9            married                 0      M    employee     0     23108.150   \n",
      "\n",
      "                               purpose age_group  \n",
      "0                purchase of the house     40-49  \n",
      "1                         car purchase     30-39  \n",
      "2                purchase of the house     30-39  \n",
      "3              supplementary education     30-39  \n",
      "4                    to have a wedding     50-59  \n",
      "5                purchase of the house     20-29  \n",
      "6                 housing transactions     40-49  \n",
      "7                            education     50-59  \n",
      "8                     having a wedding     30-39  \n",
      "9  purchase of the house for my family     40-49  \n"
     ]
    }
   ],
   "source": [
    "list_div = [8750]*len(data_days_employed_filtered)\n",
    "data_credit_scoring.loc[data_credit_scoring['days_employed'] >= 300000,'days_employed'] = data_credit_scoring.loc[data_credit_scoring['days_employed'] >= 300000,'days_employed'].div(list_div)*365\n",
    "data_credit_scoring['days_employed'] = abs(data_credit_scoring['days_employed'])\n",
    "print(data_credit_scoring.head(10))"
   ]
  },
  {
   "cell_type": "markdown",
   "id": "793d9836",
   "metadata": {},
   "source": [
    "Hemos resuelto el problema de los valores `negativos` y de los valores mayores de `300 000` días de empleado."
   ]
  },
  {
   "cell_type": "code",
   "execution_count": 38,
   "id": "4245f3c2",
   "metadata": {},
   "outputs": [
    {
     "name": "stdout",
     "output_type": "stream",
     "text": [
      "[0, 19, 20, 21, 22, 23, 24, 25, 26, 27, 28, 29, 30, 31, 32, 33, 34, 35, 36, 37, 38, 39, 40, 41, 42, 43, 44, 45, 46, 47, 48, 49, 50, 51, 52, 53, 54, 55, 56, 57, 58, 59, 60, 61, 62, 63, 64, 65, 66, 67, 68, 69, 70, 71, 72, 73, 74, 75]\n",
      "\n",
      "      children  days_employed  dob_years            education  education_id  \\\n",
      "99           0   14455.736102          0  secondary_education             1   \n",
      "149          0    2664.273168          0  secondary_education             1   \n",
      "270          3    1872.663186          0  secondary_education             1   \n",
      "578          0   16596.302426          0  secondary_education             1   \n",
      "1040         0    1158.029561          0   bachelors's_degree             0   \n",
      "1149         0     934.654854          0  secondary_education             1   \n",
      "1175         0   15470.973762          0  secondary_education             1   \n",
      "1386         0    5043.219890          0   bachelors's_degree             0   \n",
      "1890         0            NaN          0   bachelors's_degree             0   \n",
      "1898         0   15440.314973          0  secondary_education             1   \n",
      "\n",
      "        family_status  family_status_id gender    income_type  debt  \\\n",
      "99            married                 0      F        retiree     0   \n",
      "149          divorced                 3      F       employee     0   \n",
      "270           married                 0      F       employee     0   \n",
      "578           married                 0      F        retiree     0   \n",
      "1040         divorced                 3      F       business     0   \n",
      "1149          married                 0      F       business     0   \n",
      "1175          married                 0      F        retiree     0   \n",
      "1386          married                 0      M  civil servant     0   \n",
      "1890        unmarried                 4      F       employee     0   \n",
      "1898  widow / widower                 2      F        retiree     0   \n",
      "\n",
      "      total_income                           purpose age_group  \n",
      "99       11406.644                               car       0-9  \n",
      "149      11228.230              housing transactions       0-9  \n",
      "270      16346.633                housing renovation       0-9  \n",
      "578      15619.310      construction of own property       0-9  \n",
      "1040     48639.062                      to own a car       0-9  \n",
      "1149     32296.389                   buy real estate       0-9  \n",
      "1175     50231.975  to get a supplementary education       0-9  \n",
      "1386     38483.779                 purchase of a car       0-9  \n",
      "1890           NaN                           housing       0-9  \n",
      "1898     20384.043                      to buy a car       0-9  \n",
      "\n",
      "La cantidad de filas con edad 0 es: 101\n",
      "\n",
      "income_type\n",
      "business                       39.697542\n",
      "civil servant                  40.636737\n",
      "employee                       39.821027\n",
      "entrepreneur                   42.500000\n",
      "paternity / maternity leave    39.000000\n",
      "retiree                        59.063019\n",
      "student                        22.000000\n",
      "unemployed                     38.000000\n",
      "Name: dob_years, dtype: float64\n",
      "\n"
     ]
    }
   ],
   "source": [
    "print(sorted(data_credit_scoring['dob_years'].unique()))\n",
    "print()\n",
    "data_filtered_age = data_credit_scoring[data_credit_scoring['dob_years'] == 0]\n",
    "print(data_filtered_age.head(10))\n",
    "print()\n",
    "print('La cantidad de filas con edad 0 es: ' + str(len(data_filtered_age)))\n",
    "print()\n",
    "print(data_credit_scoring.groupby('income_type')['dob_years'].mean())\n",
    "print()\n",
    "mean_by_type = data_credit_scoring.groupby('income_type')['dob_years'].mean()"
   ]
  },
  {
   "cell_type": "markdown",
   "id": "84d68389",
   "metadata": {},
   "source": [
    "Podemos ver que hay `101` encuestados que tienen el dato de edad en `0`. Lo cual es un error a la hora de llenar los datos. Esto lo vamos a tratar como datos faltantes. Vamos a rellenarlos teniendo en cuenta la media por grupos de tipos de ingresos. "
   ]
  },
  {
   "cell_type": "code",
   "execution_count": 39,
   "id": "3077ed8c",
   "metadata": {},
   "outputs": [],
   "source": [
    "def fill_age(row):\n",
    "    age = row['dob_years']\n",
    "    type_income = row['income_type']\n",
    "    if age == 0:\n",
    "        return int(mean_by_type[type_income])\n",
    "    return age\n",
    "# row_values = [0, 'retiree']\n",
    "# row_columns = ['dob_years', 'income_type']\n",
    "# row = pd.Series(data = row_values, index = row_columns)\n",
    "# print(fill_age(row))\n",
    "\n",
    "data_credit_scoring['dob_years'] = data_credit_scoring.apply(fill_age, axis = 1)"
   ]
  },
  {
   "cell_type": "code",
   "execution_count": 40,
   "id": "6bc0c1a9",
   "metadata": {},
   "outputs": [
    {
     "data": {
      "text/plain": [
       "19"
      ]
     },
     "execution_count": 40,
     "metadata": {},
     "output_type": "execute_result"
    }
   ],
   "source": [
    "data_credit_scoring['dob_years'].unique().min()\n"
   ]
  },
  {
   "cell_type": "markdown",
   "id": "3bc3d6f0",
   "metadata": {},
   "source": [
    "Hemos resuelto el problema de edad con valor `0` en algunas filas."
   ]
  },
  {
   "cell_type": "code",
   "execution_count": 41,
   "id": "2fddf5fe",
   "metadata": {
    "scrolled": true
   },
   "outputs": [
    {
     "data": {
      "text/plain": [
       "array(['married', 'civil partnership', 'widow / widower', 'divorced',\n",
       "       'unmarried'], dtype=object)"
      ]
     },
     "execution_count": 41,
     "metadata": {},
     "output_type": "execute_result"
    }
   ],
   "source": [
    "data_credit_scoring['family_status'].unique()"
   ]
  },
  {
   "cell_type": "code",
   "execution_count": 42,
   "id": "f752913b",
   "metadata": {},
   "outputs": [
    {
     "data": {
      "text/plain": [
       "array(['married', 'civil_partnership', 'widow/widower', 'divorced',\n",
       "       'unmarried'], dtype=object)"
      ]
     },
     "execution_count": 42,
     "metadata": {},
     "output_type": "execute_result"
    }
   ],
   "source": [
    "data_credit_scoring['family_status'] = data_credit_scoring['family_status'].replace('civil partnership', 'civil_partnership')\n",
    "data_credit_scoring['family_status'] = data_credit_scoring['family_status'].replace('widow / widower', 'widow/widower')\n",
    "data_credit_scoring['family_status'].unique()"
   ]
  },
  {
   "cell_type": "markdown",
   "id": "c1e528dc",
   "metadata": {},
   "source": [
    "Pusimos todos los valores de la columna `family_status` en el formato `snake_case`. Además, eliminamos los espacios en los nombres de las categorías.  "
   ]
  },
  {
   "cell_type": "code",
   "execution_count": 43,
   "id": "3cf0b85b",
   "metadata": {},
   "outputs": [
    {
     "name": "stdout",
     "output_type": "stream",
     "text": [
      "['F' 'M' 'XNA']\n"
     ]
    },
    {
     "data": {
      "text/plain": [
       "F      14236\n",
       "M       7288\n",
       "XNA        1\n",
       "Name: gender, dtype: int64"
      ]
     },
     "execution_count": 43,
     "metadata": {},
     "output_type": "execute_result"
    }
   ],
   "source": [
    "print(data_credit_scoring['gender'].unique())\n",
    "\n",
    "data_credit_scoring['gender'].value_counts()"
   ]
  },
  {
   "cell_type": "markdown",
   "id": "9ecc6fca",
   "metadata": {},
   "source": [
    "**No parecen haber problemas significativos en la columna `gender`**"
   ]
  },
  {
   "cell_type": "code",
   "execution_count": 44,
   "id": "16a99536",
   "metadata": {},
   "outputs": [
    {
     "name": "stdout",
     "output_type": "stream",
     "text": [
      "['employee' 'retiree' 'business' 'civil servant' 'unemployed'\n",
      " 'entrepreneur' 'student' 'paternity / maternity leave']\n",
      "\n"
     ]
    },
    {
     "data": {
      "text/plain": [
       "employee                       11119\n",
       "business                        5085\n",
       "retiree                         3856\n",
       "civil servant                   1459\n",
       "unemployed                         2\n",
       "entrepreneur                       2\n",
       "student                            1\n",
       "paternity / maternity leave        1\n",
       "Name: income_type, dtype: int64"
      ]
     },
     "execution_count": 44,
     "metadata": {},
     "output_type": "execute_result"
    }
   ],
   "source": [
    "print(data_credit_scoring['income_type'].unique())\n",
    "print()\n",
    "data_credit_scoring['income_type'].value_counts()"
   ]
  },
  {
   "cell_type": "code",
   "execution_count": 45,
   "id": "a98ab9f5",
   "metadata": {},
   "outputs": [
    {
     "data": {
      "text/plain": [
       "array(['employee', 'retiree', 'business', 'civil servant', 'unemployed',\n",
       "       'entrepreneur', 'student', 'paternity/maternity_leave'],\n",
       "      dtype=object)"
      ]
     },
     "execution_count": 45,
     "metadata": {},
     "output_type": "execute_result"
    }
   ],
   "source": [
    "data_credit_scoring['income_type'] = data_credit_scoring['income_type'].replace('paternity / maternity leave', 'paternity/maternity_leave')\n",
    "data_credit_scoring['income_type'].unique()"
   ]
  },
  {
   "cell_type": "markdown",
   "id": "8576b3cb",
   "metadata": {},
   "source": [
    "Pusimos todos los valores de la columna `income_type` en el formato `snake_case`. Además, eliminamos los espacios en los nombres de las categorías. "
   ]
  },
  {
   "cell_type": "code",
   "execution_count": 46,
   "id": "74e52bd4",
   "metadata": {},
   "outputs": [
    {
     "name": "stdout",
     "output_type": "stream",
     "text": [
      "71\n"
     ]
    },
    {
     "data": {
      "text/plain": [
       "0"
      ]
     },
     "execution_count": 46,
     "metadata": {},
     "output_type": "execute_result"
    }
   ],
   "source": [
    "print(data_credit_scoring.duplicated().sum())\n",
    "data_credit_scoring = data_credit_scoring.drop_duplicates().reset_index(drop = True)\n",
    "data_credit_scoring.duplicated().sum()"
   ]
  },
  {
   "cell_type": "markdown",
   "id": "e6e9c623",
   "metadata": {},
   "source": [
    "Habían `71` duplicados totales, los cuales hemos eliminado."
   ]
  },
  {
   "cell_type": "code",
   "execution_count": 47,
   "id": "795ac57b",
   "metadata": {
    "scrolled": true
   },
   "outputs": [
    {
     "name": "stdout",
     "output_type": "stream",
     "text": [
      "<class 'pandas.core.frame.DataFrame'>\n",
      "RangeIndex: 21454 entries, 0 to 21453\n",
      "Data columns (total 13 columns):\n",
      " #   Column            Non-Null Count  Dtype  \n",
      "---  ------            --------------  -----  \n",
      " 0   children          21454 non-null  int64  \n",
      " 1   days_employed     19351 non-null  float64\n",
      " 2   dob_years         21454 non-null  int64  \n",
      " 3   education         21454 non-null  object \n",
      " 4   education_id      21454 non-null  int64  \n",
      " 5   family_status     21454 non-null  object \n",
      " 6   family_status_id  21454 non-null  int64  \n",
      " 7   gender            21454 non-null  object \n",
      " 8   income_type       21454 non-null  object \n",
      " 9   debt              21454 non-null  int64  \n",
      " 10  total_income      19351 non-null  float64\n",
      " 11  purpose           21454 non-null  object \n",
      " 12  age_group         21454 non-null  object \n",
      "dtypes: float64(2), int64(5), object(6)\n",
      "memory usage: 2.1+ MB\n"
     ]
    }
   ],
   "source": [
    "data_credit_scoring.info()"
   ]
  },
  {
   "cell_type": "markdown",
   "id": "b3626066",
   "metadata": {},
   "source": [
    "<div class=\"alert alert-block alert-success\">\n",
    "    \n",
    "<b>Comentario del revisor</b> <a class=\"tocSkip\"></a>\n",
    "    \n",
    "Buen trabajo. Solo algunos puntos a fortalecer.\n",
    "</div>"
   ]
  },
  {
   "cell_type": "markdown",
   "id": "ec151428",
   "metadata": {},
   "source": [
    "## Trabajar con los valores ausentes"
   ]
  },
  {
   "cell_type": "markdown",
   "id": "29e9450b",
   "metadata": {},
   "source": [
    "### 3.1 Restaurar los valores ausentes en `total_income`"
   ]
  },
  {
   "cell_type": "code",
   "execution_count": 48,
   "id": "aac28a89",
   "metadata": {},
   "outputs": [
    {
     "name": "stdout",
     "output_type": "stream",
     "text": [
      "<class 'pandas.core.frame.DataFrame'>\n",
      "Int64Index: 19351 entries, 0 to 21453\n",
      "Data columns (total 13 columns):\n",
      " #   Column            Non-Null Count  Dtype  \n",
      "---  ------            --------------  -----  \n",
      " 0   children          19351 non-null  int64  \n",
      " 1   days_employed     19351 non-null  float64\n",
      " 2   dob_years         19351 non-null  int64  \n",
      " 3   education         19351 non-null  object \n",
      " 4   education_id      19351 non-null  int64  \n",
      " 5   family_status     19351 non-null  object \n",
      " 6   family_status_id  19351 non-null  int64  \n",
      " 7   gender            19351 non-null  object \n",
      " 8   income_type       19351 non-null  object \n",
      " 9   debt              19351 non-null  int64  \n",
      " 10  total_income      19351 non-null  float64\n",
      " 11  purpose           19351 non-null  object \n",
      " 12  age_group         19351 non-null  object \n",
      "dtypes: float64(2), int64(5), object(6)\n",
      "memory usage: 2.1+ MB\n",
      "\n"
     ]
    },
    {
     "data": {
      "text/html": [
       "<div>\n",
       "<style scoped>\n",
       "    .dataframe tbody tr th:only-of-type {\n",
       "        vertical-align: middle;\n",
       "    }\n",
       "\n",
       "    .dataframe tbody tr th {\n",
       "        vertical-align: top;\n",
       "    }\n",
       "\n",
       "    .dataframe thead th {\n",
       "        text-align: right;\n",
       "    }\n",
       "</style>\n",
       "<table border=\"1\" class=\"dataframe\">\n",
       "  <thead>\n",
       "    <tr style=\"text-align: right;\">\n",
       "      <th></th>\n",
       "      <th>children</th>\n",
       "      <th>days_employed</th>\n",
       "      <th>dob_years</th>\n",
       "      <th>education</th>\n",
       "      <th>education_id</th>\n",
       "      <th>family_status</th>\n",
       "      <th>family_status_id</th>\n",
       "      <th>gender</th>\n",
       "      <th>income_type</th>\n",
       "      <th>debt</th>\n",
       "      <th>total_income</th>\n",
       "      <th>purpose</th>\n",
       "      <th>age_group</th>\n",
       "    </tr>\n",
       "  </thead>\n",
       "  <tbody>\n",
       "    <tr>\n",
       "      <th>0</th>\n",
       "      <td>1</td>\n",
       "      <td>8437.673028</td>\n",
       "      <td>42</td>\n",
       "      <td>bachelors's_degree</td>\n",
       "      <td>0</td>\n",
       "      <td>married</td>\n",
       "      <td>0</td>\n",
       "      <td>F</td>\n",
       "      <td>employee</td>\n",
       "      <td>0</td>\n",
       "      <td>40620.102</td>\n",
       "      <td>purchase of the house</td>\n",
       "      <td>40-49</td>\n",
       "    </tr>\n",
       "    <tr>\n",
       "      <th>1</th>\n",
       "      <td>1</td>\n",
       "      <td>4024.803754</td>\n",
       "      <td>36</td>\n",
       "      <td>secondary_education</td>\n",
       "      <td>1</td>\n",
       "      <td>married</td>\n",
       "      <td>0</td>\n",
       "      <td>F</td>\n",
       "      <td>employee</td>\n",
       "      <td>0</td>\n",
       "      <td>17932.802</td>\n",
       "      <td>car purchase</td>\n",
       "      <td>30-39</td>\n",
       "    </tr>\n",
       "    <tr>\n",
       "      <th>2</th>\n",
       "      <td>0</td>\n",
       "      <td>5623.422610</td>\n",
       "      <td>33</td>\n",
       "      <td>secondary_education</td>\n",
       "      <td>1</td>\n",
       "      <td>married</td>\n",
       "      <td>0</td>\n",
       "      <td>M</td>\n",
       "      <td>employee</td>\n",
       "      <td>0</td>\n",
       "      <td>23341.752</td>\n",
       "      <td>purchase of the house</td>\n",
       "      <td>30-39</td>\n",
       "    </tr>\n",
       "    <tr>\n",
       "      <th>3</th>\n",
       "      <td>3</td>\n",
       "      <td>4124.747207</td>\n",
       "      <td>32</td>\n",
       "      <td>secondary_education</td>\n",
       "      <td>1</td>\n",
       "      <td>married</td>\n",
       "      <td>0</td>\n",
       "      <td>M</td>\n",
       "      <td>employee</td>\n",
       "      <td>0</td>\n",
       "      <td>42820.568</td>\n",
       "      <td>supplementary education</td>\n",
       "      <td>30-39</td>\n",
       "    </tr>\n",
       "    <tr>\n",
       "      <th>4</th>\n",
       "      <td>0</td>\n",
       "      <td>14193.956148</td>\n",
       "      <td>53</td>\n",
       "      <td>secondary_education</td>\n",
       "      <td>1</td>\n",
       "      <td>civil_partnership</td>\n",
       "      <td>1</td>\n",
       "      <td>F</td>\n",
       "      <td>retiree</td>\n",
       "      <td>0</td>\n",
       "      <td>25378.572</td>\n",
       "      <td>to have a wedding</td>\n",
       "      <td>50-59</td>\n",
       "    </tr>\n",
       "    <tr>\n",
       "      <th>5</th>\n",
       "      <td>0</td>\n",
       "      <td>926.185831</td>\n",
       "      <td>27</td>\n",
       "      <td>bachelors's_degree</td>\n",
       "      <td>0</td>\n",
       "      <td>civil_partnership</td>\n",
       "      <td>1</td>\n",
       "      <td>M</td>\n",
       "      <td>business</td>\n",
       "      <td>0</td>\n",
       "      <td>40922.170</td>\n",
       "      <td>purchase of the house</td>\n",
       "      <td>20-29</td>\n",
       "    </tr>\n",
       "    <tr>\n",
       "      <th>6</th>\n",
       "      <td>0</td>\n",
       "      <td>2879.202052</td>\n",
       "      <td>43</td>\n",
       "      <td>bachelors's_degree</td>\n",
       "      <td>0</td>\n",
       "      <td>married</td>\n",
       "      <td>0</td>\n",
       "      <td>F</td>\n",
       "      <td>business</td>\n",
       "      <td>0</td>\n",
       "      <td>38484.156</td>\n",
       "      <td>housing transactions</td>\n",
       "      <td>40-49</td>\n",
       "    </tr>\n",
       "    <tr>\n",
       "      <th>7</th>\n",
       "      <td>0</td>\n",
       "      <td>152.779569</td>\n",
       "      <td>50</td>\n",
       "      <td>secondary_education</td>\n",
       "      <td>1</td>\n",
       "      <td>married</td>\n",
       "      <td>0</td>\n",
       "      <td>M</td>\n",
       "      <td>employee</td>\n",
       "      <td>0</td>\n",
       "      <td>21731.829</td>\n",
       "      <td>education</td>\n",
       "      <td>50-59</td>\n",
       "    </tr>\n",
       "    <tr>\n",
       "      <th>8</th>\n",
       "      <td>2</td>\n",
       "      <td>6929.865299</td>\n",
       "      <td>35</td>\n",
       "      <td>bachelors's_degree</td>\n",
       "      <td>0</td>\n",
       "      <td>civil_partnership</td>\n",
       "      <td>1</td>\n",
       "      <td>F</td>\n",
       "      <td>employee</td>\n",
       "      <td>0</td>\n",
       "      <td>15337.093</td>\n",
       "      <td>having a wedding</td>\n",
       "      <td>30-39</td>\n",
       "    </tr>\n",
       "    <tr>\n",
       "      <th>9</th>\n",
       "      <td>0</td>\n",
       "      <td>2188.756445</td>\n",
       "      <td>41</td>\n",
       "      <td>secondary_education</td>\n",
       "      <td>1</td>\n",
       "      <td>married</td>\n",
       "      <td>0</td>\n",
       "      <td>M</td>\n",
       "      <td>employee</td>\n",
       "      <td>0</td>\n",
       "      <td>23108.150</td>\n",
       "      <td>purchase of the house for my family</td>\n",
       "      <td>40-49</td>\n",
       "    </tr>\n",
       "    <tr>\n",
       "      <th>10</th>\n",
       "      <td>2</td>\n",
       "      <td>4171.483647</td>\n",
       "      <td>36</td>\n",
       "      <td>bachelors's_degree</td>\n",
       "      <td>0</td>\n",
       "      <td>married</td>\n",
       "      <td>0</td>\n",
       "      <td>M</td>\n",
       "      <td>business</td>\n",
       "      <td>0</td>\n",
       "      <td>18230.959</td>\n",
       "      <td>buy real estate</td>\n",
       "      <td>30-39</td>\n",
       "    </tr>\n",
       "    <tr>\n",
       "      <th>11</th>\n",
       "      <td>0</td>\n",
       "      <td>792.701887</td>\n",
       "      <td>40</td>\n",
       "      <td>secondary_education</td>\n",
       "      <td>1</td>\n",
       "      <td>married</td>\n",
       "      <td>0</td>\n",
       "      <td>F</td>\n",
       "      <td>employee</td>\n",
       "      <td>0</td>\n",
       "      <td>12331.077</td>\n",
       "      <td>buy commercial real estate</td>\n",
       "      <td>40-49</td>\n",
       "    </tr>\n",
       "    <tr>\n",
       "      <th>13</th>\n",
       "      <td>0</td>\n",
       "      <td>1846.641941</td>\n",
       "      <td>54</td>\n",
       "      <td>some_college</td>\n",
       "      <td>2</td>\n",
       "      <td>married</td>\n",
       "      <td>0</td>\n",
       "      <td>F</td>\n",
       "      <td>employee</td>\n",
       "      <td>0</td>\n",
       "      <td>20873.317</td>\n",
       "      <td>car purchase</td>\n",
       "      <td>50-59</td>\n",
       "    </tr>\n",
       "    <tr>\n",
       "      <th>14</th>\n",
       "      <td>0</td>\n",
       "      <td>1844.956182</td>\n",
       "      <td>56</td>\n",
       "      <td>bachelors's_degree</td>\n",
       "      <td>0</td>\n",
       "      <td>civil_partnership</td>\n",
       "      <td>1</td>\n",
       "      <td>F</td>\n",
       "      <td>business</td>\n",
       "      <td>1</td>\n",
       "      <td>26420.466</td>\n",
       "      <td>buy residential real estate</td>\n",
       "      <td>50-59</td>\n",
       "    </tr>\n",
       "    <tr>\n",
       "      <th>15</th>\n",
       "      <td>1</td>\n",
       "      <td>972.364419</td>\n",
       "      <td>26</td>\n",
       "      <td>secondary_education</td>\n",
       "      <td>1</td>\n",
       "      <td>married</td>\n",
       "      <td>0</td>\n",
       "      <td>F</td>\n",
       "      <td>employee</td>\n",
       "      <td>0</td>\n",
       "      <td>18691.345</td>\n",
       "      <td>construction of own property</td>\n",
       "      <td>20-29</td>\n",
       "    </tr>\n",
       "  </tbody>\n",
       "</table>\n",
       "</div>"
      ],
      "text/plain": [
       "    children  days_employed  dob_years            education  education_id  \\\n",
       "0          1    8437.673028         42   bachelors's_degree             0   \n",
       "1          1    4024.803754         36  secondary_education             1   \n",
       "2          0    5623.422610         33  secondary_education             1   \n",
       "3          3    4124.747207         32  secondary_education             1   \n",
       "4          0   14193.956148         53  secondary_education             1   \n",
       "5          0     926.185831         27   bachelors's_degree             0   \n",
       "6          0    2879.202052         43   bachelors's_degree             0   \n",
       "7          0     152.779569         50  secondary_education             1   \n",
       "8          2    6929.865299         35   bachelors's_degree             0   \n",
       "9          0    2188.756445         41  secondary_education             1   \n",
       "10         2    4171.483647         36   bachelors's_degree             0   \n",
       "11         0     792.701887         40  secondary_education             1   \n",
       "13         0    1846.641941         54         some_college             2   \n",
       "14         0    1844.956182         56   bachelors's_degree             0   \n",
       "15         1     972.364419         26  secondary_education             1   \n",
       "\n",
       "        family_status  family_status_id gender income_type  debt  \\\n",
       "0             married                 0      F    employee     0   \n",
       "1             married                 0      F    employee     0   \n",
       "2             married                 0      M    employee     0   \n",
       "3             married                 0      M    employee     0   \n",
       "4   civil_partnership                 1      F     retiree     0   \n",
       "5   civil_partnership                 1      M    business     0   \n",
       "6             married                 0      F    business     0   \n",
       "7             married                 0      M    employee     0   \n",
       "8   civil_partnership                 1      F    employee     0   \n",
       "9             married                 0      M    employee     0   \n",
       "10            married                 0      M    business     0   \n",
       "11            married                 0      F    employee     0   \n",
       "13            married                 0      F    employee     0   \n",
       "14  civil_partnership                 1      F    business     1   \n",
       "15            married                 0      F    employee     0   \n",
       "\n",
       "    total_income                              purpose age_group  \n",
       "0      40620.102                purchase of the house     40-49  \n",
       "1      17932.802                         car purchase     30-39  \n",
       "2      23341.752                purchase of the house     30-39  \n",
       "3      42820.568              supplementary education     30-39  \n",
       "4      25378.572                    to have a wedding     50-59  \n",
       "5      40922.170                purchase of the house     20-29  \n",
       "6      38484.156                 housing transactions     40-49  \n",
       "7      21731.829                            education     50-59  \n",
       "8      15337.093                     having a wedding     30-39  \n",
       "9      23108.150  purchase of the house for my family     40-49  \n",
       "10     18230.959                      buy real estate     30-39  \n",
       "11     12331.077           buy commercial real estate     40-49  \n",
       "13     20873.317                         car purchase     50-59  \n",
       "14     26420.466          buy residential real estate     50-59  \n",
       "15     18691.345         construction of own property     20-29  "
      ]
     },
     "execution_count": 48,
     "metadata": {},
     "output_type": "execute_result"
    }
   ],
   "source": [
    "# Crea una tabla sin valores ausentes y muestra algunas de sus filas para asegurarte de que se ve bien\n",
    "data_outna = data_credit_scoring.dropna()\n",
    "data_outna.info()\n",
    "print()\n",
    "data_outna.head(15)"
   ]
  },
  {
   "cell_type": "code",
   "execution_count": 49,
   "id": "dcc915d3",
   "metadata": {
    "scrolled": false
   },
   "outputs": [
    {
     "data": {
      "text/html": [
       "<div>\n",
       "<style scoped>\n",
       "    .dataframe tbody tr th:only-of-type {\n",
       "        vertical-align: middle;\n",
       "    }\n",
       "\n",
       "    .dataframe tbody tr th {\n",
       "        vertical-align: top;\n",
       "    }\n",
       "\n",
       "    .dataframe thead tr th {\n",
       "        text-align: left;\n",
       "    }\n",
       "\n",
       "    .dataframe thead tr:last-of-type th {\n",
       "        text-align: right;\n",
       "    }\n",
       "</style>\n",
       "<table border=\"1\" class=\"dataframe\">\n",
       "  <thead>\n",
       "    <tr>\n",
       "      <th></th>\n",
       "      <th></th>\n",
       "      <th></th>\n",
       "      <th></th>\n",
       "      <th colspan=\"2\" halign=\"left\">total_income</th>\n",
       "    </tr>\n",
       "    <tr>\n",
       "      <th></th>\n",
       "      <th></th>\n",
       "      <th></th>\n",
       "      <th></th>\n",
       "      <th>mean</th>\n",
       "      <th>median</th>\n",
       "    </tr>\n",
       "    <tr>\n",
       "      <th>age_group</th>\n",
       "      <th>income_type</th>\n",
       "      <th>education</th>\n",
       "      <th>gender</th>\n",
       "      <th></th>\n",
       "      <th></th>\n",
       "    </tr>\n",
       "  </thead>\n",
       "  <tbody>\n",
       "    <tr>\n",
       "      <th rowspan=\"5\" valign=\"top\">0-9</th>\n",
       "      <th rowspan=\"4\" valign=\"top\">business</th>\n",
       "      <th rowspan=\"2\" valign=\"top\">bachelors's_degree</th>\n",
       "      <th>F</th>\n",
       "      <td>31652.808833</td>\n",
       "      <td>35199.0075</td>\n",
       "    </tr>\n",
       "    <tr>\n",
       "      <th>M</th>\n",
       "      <td>36060.792200</td>\n",
       "      <td>38512.3210</td>\n",
       "    </tr>\n",
       "    <tr>\n",
       "      <th rowspan=\"2\" valign=\"top\">secondary_education</th>\n",
       "      <th>F</th>\n",
       "      <td>23511.919857</td>\n",
       "      <td>26834.1140</td>\n",
       "    </tr>\n",
       "    <tr>\n",
       "      <th>M</th>\n",
       "      <td>NaN</td>\n",
       "      <td>NaN</td>\n",
       "    </tr>\n",
       "    <tr>\n",
       "      <th>civil servant</th>\n",
       "      <th>bachelors's_degree</th>\n",
       "      <th>F</th>\n",
       "      <td>21739.160667</td>\n",
       "      <td>18335.8510</td>\n",
       "    </tr>\n",
       "    <tr>\n",
       "      <th>...</th>\n",
       "      <th>...</th>\n",
       "      <th>...</th>\n",
       "      <th>...</th>\n",
       "      <td>...</td>\n",
       "      <td>...</td>\n",
       "    </tr>\n",
       "    <tr>\n",
       "      <th rowspan=\"5\" valign=\"top\">70+</th>\n",
       "      <th rowspan=\"5\" valign=\"top\">retiree</th>\n",
       "      <th>primary_education</th>\n",
       "      <th>M</th>\n",
       "      <td>38032.546000</td>\n",
       "      <td>38032.5460</td>\n",
       "    </tr>\n",
       "    <tr>\n",
       "      <th rowspan=\"2\" valign=\"top\">secondary_education</th>\n",
       "      <th>F</th>\n",
       "      <td>17940.940753</td>\n",
       "      <td>17543.2480</td>\n",
       "    </tr>\n",
       "    <tr>\n",
       "      <th>M</th>\n",
       "      <td>20453.404591</td>\n",
       "      <td>18262.7265</td>\n",
       "    </tr>\n",
       "    <tr>\n",
       "      <th rowspan=\"2\" valign=\"top\">some_college</th>\n",
       "      <th>F</th>\n",
       "      <td>10903.587000</td>\n",
       "      <td>10903.5870</td>\n",
       "    </tr>\n",
       "    <tr>\n",
       "      <th>M</th>\n",
       "      <td>19946.795000</td>\n",
       "      <td>19946.7950</td>\n",
       "    </tr>\n",
       "  </tbody>\n",
       "</table>\n",
       "<p>194 rows × 2 columns</p>\n",
       "</div>"
      ],
      "text/plain": [
       "                                                    total_income            \n",
       "                                                            mean      median\n",
       "age_group income_type   education           gender                          \n",
       "0-9       business      bachelors's_degree  F       31652.808833  35199.0075\n",
       "                                            M       36060.792200  38512.3210\n",
       "                        secondary_education F       23511.919857  26834.1140\n",
       "                                            M                NaN         NaN\n",
       "          civil servant bachelors's_degree  F       21739.160667  18335.8510\n",
       "...                                                          ...         ...\n",
       "70+       retiree       primary_education   M       38032.546000  38032.5460\n",
       "                        secondary_education F       17940.940753  17543.2480\n",
       "                                            M       20453.404591  18262.7265\n",
       "                        some_college        F       10903.587000  10903.5870\n",
       "                                            M       19946.795000  19946.7950\n",
       "\n",
       "[194 rows x 2 columns]"
      ]
     },
     "execution_count": 49,
     "metadata": {},
     "output_type": "execute_result"
    }
   ],
   "source": [
    "data_grouped_income = data_credit_scoring.groupby(['age_group', 'income_type', 'education', 'gender']).agg({'total_income':['mean', 'median']})\n",
    "data_grouped_income"
   ]
  },
  {
   "cell_type": "markdown",
   "id": "0f0c4bf5",
   "metadata": {},
   "source": [
    "**Comentario:** Hemos mostrado la `media` y la `mediana` del `ingreso total` para cada característica. Hemos notado que en cada caso la media del grupo es diferente, (con una diferencia importante), de la mediana, lo que puede estar causado por valores atípicos y porque los datos no sean del todo normales. Por lo que hemos decidido usar ***las medianas*** para sustituir los datos faltantes."
   ]
  },
  {
   "cell_type": "code",
   "execution_count": 50,
   "id": "0ffbc56f",
   "metadata": {},
   "outputs": [],
   "source": [
    "def fill_total_income(row):\n",
    "    gen = row['gender']\n",
    "    edu = row['education']\n",
    "    income_type = row['income_type']\n",
    "    age = row['age_group']\n",
    "    if pd.isna(row['total_income']):\n",
    "        return data_grouped_income.loc[(age, income_type, edu, gen)][1]\n",
    "    return row['total_income']\n",
    "\n",
    "data_credit_scoring['total_income'] = data_credit_scoring.apply(fill_total_income, axis = 1)"
   ]
  },
  {
   "cell_type": "code",
   "execution_count": 51,
   "id": "dadc5b1f",
   "metadata": {
    "scrolled": true
   },
   "outputs": [
    {
     "data": {
      "text/plain": [
       "children               0\n",
       "days_employed       2103\n",
       "dob_years              0\n",
       "education              0\n",
       "education_id           0\n",
       "family_status          0\n",
       "family_status_id       0\n",
       "gender                 0\n",
       "income_type            0\n",
       "debt                   0\n",
       "total_income           5\n",
       "purpose                0\n",
       "age_group              0\n",
       "dtype: int64"
      ]
     },
     "execution_count": 51,
     "metadata": {},
     "output_type": "execute_result"
    }
   ],
   "source": [
    "data_credit_scoring.isna().sum()"
   ]
  },
  {
   "cell_type": "markdown",
   "id": "8229677f",
   "metadata": {},
   "source": [
    "**Comentario:** Hemos rellenado los datos faltantes en la columna `total_income` considerando la media por grupos agrupados por las características `age_group`, `income_type`, `education` y `gender`. Todavía quedan `cinco` filas con datos ausentes, dado que, en estos casos, los encuestados no caen en ninguno de los grupos formados. ***Vamos a rellenar los datos en estas filas agrupando solo por dos características `income_type` y `education`.***"
   ]
  },
  {
   "cell_type": "code",
   "execution_count": 52,
   "id": "a0010eb9",
   "metadata": {},
   "outputs": [
    {
     "data": {
      "text/html": [
       "<div>\n",
       "<style scoped>\n",
       "    .dataframe tbody tr th:only-of-type {\n",
       "        vertical-align: middle;\n",
       "    }\n",
       "\n",
       "    .dataframe tbody tr th {\n",
       "        vertical-align: top;\n",
       "    }\n",
       "\n",
       "    .dataframe thead th {\n",
       "        text-align: right;\n",
       "    }\n",
       "</style>\n",
       "<table border=\"1\" class=\"dataframe\">\n",
       "  <thead>\n",
       "    <tr style=\"text-align: right;\">\n",
       "      <th></th>\n",
       "      <th>children</th>\n",
       "      <th>days_employed</th>\n",
       "      <th>dob_years</th>\n",
       "      <th>education</th>\n",
       "      <th>education_id</th>\n",
       "      <th>family_status</th>\n",
       "      <th>family_status_id</th>\n",
       "      <th>gender</th>\n",
       "      <th>income_type</th>\n",
       "      <th>debt</th>\n",
       "      <th>total_income</th>\n",
       "      <th>purpose</th>\n",
       "      <th>age_group</th>\n",
       "    </tr>\n",
       "  </thead>\n",
       "  <tbody>\n",
       "    <tr>\n",
       "      <th>1303</th>\n",
       "      <td>1</td>\n",
       "      <td>NaN</td>\n",
       "      <td>70</td>\n",
       "      <td>primary_education</td>\n",
       "      <td>3</td>\n",
       "      <td>civil_partnership</td>\n",
       "      <td>1</td>\n",
       "      <td>F</td>\n",
       "      <td>employee</td>\n",
       "      <td>0</td>\n",
       "      <td>NaN</td>\n",
       "      <td>transactions with commercial real estate</td>\n",
       "      <td>70+</td>\n",
       "    </tr>\n",
       "    <tr>\n",
       "      <th>4062</th>\n",
       "      <td>1</td>\n",
       "      <td>NaN</td>\n",
       "      <td>39</td>\n",
       "      <td>secondary_education</td>\n",
       "      <td>1</td>\n",
       "      <td>civil_partnership</td>\n",
       "      <td>1</td>\n",
       "      <td>M</td>\n",
       "      <td>business</td>\n",
       "      <td>0</td>\n",
       "      <td>NaN</td>\n",
       "      <td>housing renovation</td>\n",
       "      <td>0-9</td>\n",
       "    </tr>\n",
       "    <tr>\n",
       "      <th>5931</th>\n",
       "      <td>0</td>\n",
       "      <td>NaN</td>\n",
       "      <td>58</td>\n",
       "      <td>bachelors's_degree</td>\n",
       "      <td>0</td>\n",
       "      <td>married</td>\n",
       "      <td>0</td>\n",
       "      <td>M</td>\n",
       "      <td>entrepreneur</td>\n",
       "      <td>0</td>\n",
       "      <td>NaN</td>\n",
       "      <td>buy residential real estate</td>\n",
       "      <td>50-59</td>\n",
       "    </tr>\n",
       "    <tr>\n",
       "      <th>8133</th>\n",
       "      <td>0</td>\n",
       "      <td>NaN</td>\n",
       "      <td>64</td>\n",
       "      <td>primary_education</td>\n",
       "      <td>3</td>\n",
       "      <td>civil_partnership</td>\n",
       "      <td>1</td>\n",
       "      <td>F</td>\n",
       "      <td>civil servant</td>\n",
       "      <td>0</td>\n",
       "      <td>NaN</td>\n",
       "      <td>to have a wedding</td>\n",
       "      <td>60-69</td>\n",
       "    </tr>\n",
       "    <tr>\n",
       "      <th>18689</th>\n",
       "      <td>0</td>\n",
       "      <td>NaN</td>\n",
       "      <td>62</td>\n",
       "      <td>some_college</td>\n",
       "      <td>2</td>\n",
       "      <td>civil_partnership</td>\n",
       "      <td>1</td>\n",
       "      <td>M</td>\n",
       "      <td>business</td>\n",
       "      <td>0</td>\n",
       "      <td>NaN</td>\n",
       "      <td>to have a wedding</td>\n",
       "      <td>60-69</td>\n",
       "    </tr>\n",
       "  </tbody>\n",
       "</table>\n",
       "</div>"
      ],
      "text/plain": [
       "       children  days_employed  dob_years            education  education_id  \\\n",
       "1303          1            NaN         70    primary_education             3   \n",
       "4062          1            NaN         39  secondary_education             1   \n",
       "5931          0            NaN         58   bachelors's_degree             0   \n",
       "8133          0            NaN         64    primary_education             3   \n",
       "18689         0            NaN         62         some_college             2   \n",
       "\n",
       "           family_status  family_status_id gender    income_type  debt  \\\n",
       "1303   civil_partnership                 1      F       employee     0   \n",
       "4062   civil_partnership                 1      M       business     0   \n",
       "5931             married                 0      M   entrepreneur     0   \n",
       "8133   civil_partnership                 1      F  civil servant     0   \n",
       "18689  civil_partnership                 1      M       business     0   \n",
       "\n",
       "       total_income                                   purpose age_group  \n",
       "1303            NaN  transactions with commercial real estate       70+  \n",
       "4062            NaN                        housing renovation       0-9  \n",
       "5931            NaN               buy residential real estate     50-59  \n",
       "8133            NaN                         to have a wedding     60-69  \n",
       "18689           NaN                         to have a wedding     60-69  "
      ]
     },
     "execution_count": 52,
     "metadata": {},
     "output_type": "execute_result"
    }
   ],
   "source": [
    "data_credit_scoring[data_credit_scoring['total_income'].isna()]"
   ]
  },
  {
   "cell_type": "code",
   "execution_count": 53,
   "id": "51498131",
   "metadata": {
    "scrolled": true
   },
   "outputs": [
    {
     "data": {
      "text/html": [
       "<div>\n",
       "<style scoped>\n",
       "    .dataframe tbody tr th:only-of-type {\n",
       "        vertical-align: middle;\n",
       "    }\n",
       "\n",
       "    .dataframe tbody tr th {\n",
       "        vertical-align: top;\n",
       "    }\n",
       "\n",
       "    .dataframe thead tr th {\n",
       "        text-align: left;\n",
       "    }\n",
       "\n",
       "    .dataframe thead tr:last-of-type th {\n",
       "        text-align: right;\n",
       "    }\n",
       "</style>\n",
       "<table border=\"1\" class=\"dataframe\">\n",
       "  <thead>\n",
       "    <tr>\n",
       "      <th></th>\n",
       "      <th></th>\n",
       "      <th colspan=\"2\" halign=\"left\">total_income</th>\n",
       "    </tr>\n",
       "    <tr>\n",
       "      <th></th>\n",
       "      <th></th>\n",
       "      <th>mean</th>\n",
       "      <th>median</th>\n",
       "    </tr>\n",
       "    <tr>\n",
       "      <th>income_type</th>\n",
       "      <th>education</th>\n",
       "      <th></th>\n",
       "      <th></th>\n",
       "    </tr>\n",
       "  </thead>\n",
       "  <tbody>\n",
       "    <tr>\n",
       "      <th rowspan=\"4\" valign=\"top\">business</th>\n",
       "      <th>bachelors's_degree</th>\n",
       "      <td>38138.574551</td>\n",
       "      <td>31964.85300</td>\n",
       "    </tr>\n",
       "    <tr>\n",
       "      <th>primary_education</th>\n",
       "      <td>26341.284467</td>\n",
       "      <td>23130.86800</td>\n",
       "    </tr>\n",
       "    <tr>\n",
       "      <th>secondary_education</th>\n",
       "      <td>28398.803477</td>\n",
       "      <td>25164.58700</td>\n",
       "    </tr>\n",
       "    <tr>\n",
       "      <th>some_college</th>\n",
       "      <td>31520.752254</td>\n",
       "      <td>28914.19425</td>\n",
       "    </tr>\n",
       "    <tr>\n",
       "      <th rowspan=\"5\" valign=\"top\">civil servant</th>\n",
       "      <th>bachelors's_degree</th>\n",
       "      <td>31175.435976</td>\n",
       "      <td>27080.35700</td>\n",
       "    </tr>\n",
       "    <tr>\n",
       "      <th>graduate_degree</th>\n",
       "      <td>17822.757000</td>\n",
       "      <td>17822.75700</td>\n",
       "    </tr>\n",
       "    <tr>\n",
       "      <th>primary_education</th>\n",
       "      <td>26921.363286</td>\n",
       "      <td>16922.62500</td>\n",
       "    </tr>\n",
       "    <tr>\n",
       "      <th>secondary_education</th>\n",
       "      <td>24372.827269</td>\n",
       "      <td>21142.64650</td>\n",
       "    </tr>\n",
       "    <tr>\n",
       "      <th>some_college</th>\n",
       "      <td>27752.157010</td>\n",
       "      <td>25387.65450</td>\n",
       "    </tr>\n",
       "    <tr>\n",
       "      <th rowspan=\"5\" valign=\"top\">employee</th>\n",
       "      <th>bachelors's_degree</th>\n",
       "      <td>30274.498837</td>\n",
       "      <td>26286.13700</td>\n",
       "    </tr>\n",
       "    <tr>\n",
       "      <th>graduate_degree</th>\n",
       "      <td>31089.653667</td>\n",
       "      <td>31771.32100</td>\n",
       "    </tr>\n",
       "    <tr>\n",
       "      <th>primary_education</th>\n",
       "      <td>21846.080764</td>\n",
       "      <td>20159.18600</td>\n",
       "    </tr>\n",
       "    <tr>\n",
       "      <th>secondary_education</th>\n",
       "      <td>24171.737244</td>\n",
       "      <td>21536.34400</td>\n",
       "    </tr>\n",
       "    <tr>\n",
       "      <th>some_college</th>\n",
       "      <td>27730.155043</td>\n",
       "      <td>24795.98700</td>\n",
       "    </tr>\n",
       "    <tr>\n",
       "      <th>entrepreneur</th>\n",
       "      <th>bachelors's_degree</th>\n",
       "      <td>79866.103000</td>\n",
       "      <td>79866.10300</td>\n",
       "    </tr>\n",
       "    <tr>\n",
       "      <th>paternity/maternity_leave</th>\n",
       "      <th>secondary_education</th>\n",
       "      <td>8612.661000</td>\n",
       "      <td>8612.66100</td>\n",
       "    </tr>\n",
       "    <tr>\n",
       "      <th rowspan=\"5\" valign=\"top\">retiree</th>\n",
       "      <th>bachelors's_degree</th>\n",
       "      <td>26948.808774</td>\n",
       "      <td>23577.73400</td>\n",
       "    </tr>\n",
       "    <tr>\n",
       "      <th>graduate_degree</th>\n",
       "      <td>28334.215000</td>\n",
       "      <td>28334.21500</td>\n",
       "    </tr>\n",
       "    <tr>\n",
       "      <th>primary_education</th>\n",
       "      <td>17708.602162</td>\n",
       "      <td>16296.12000</td>\n",
       "    </tr>\n",
       "    <tr>\n",
       "      <th>secondary_education</th>\n",
       "      <td>20807.078217</td>\n",
       "      <td>18366.45900</td>\n",
       "    </tr>\n",
       "    <tr>\n",
       "      <th>some_college</th>\n",
       "      <td>22102.261427</td>\n",
       "      <td>19221.90300</td>\n",
       "    </tr>\n",
       "    <tr>\n",
       "      <th>student</th>\n",
       "      <th>bachelors's_degree</th>\n",
       "      <td>15712.260000</td>\n",
       "      <td>15712.26000</td>\n",
       "    </tr>\n",
       "    <tr>\n",
       "      <th rowspan=\"2\" valign=\"top\">unemployed</th>\n",
       "      <th>bachelors's_degree</th>\n",
       "      <td>32435.602000</td>\n",
       "      <td>32435.60200</td>\n",
       "    </tr>\n",
       "    <tr>\n",
       "      <th>secondary_education</th>\n",
       "      <td>9593.119000</td>\n",
       "      <td>9593.11900</td>\n",
       "    </tr>\n",
       "  </tbody>\n",
       "</table>\n",
       "</div>"
      ],
      "text/plain": [
       "                                               total_income             \n",
       "                                                       mean       median\n",
       "income_type               education                                     \n",
       "business                  bachelors's_degree   38138.574551  31964.85300\n",
       "                          primary_education    26341.284467  23130.86800\n",
       "                          secondary_education  28398.803477  25164.58700\n",
       "                          some_college         31520.752254  28914.19425\n",
       "civil servant             bachelors's_degree   31175.435976  27080.35700\n",
       "                          graduate_degree      17822.757000  17822.75700\n",
       "                          primary_education    26921.363286  16922.62500\n",
       "                          secondary_education  24372.827269  21142.64650\n",
       "                          some_college         27752.157010  25387.65450\n",
       "employee                  bachelors's_degree   30274.498837  26286.13700\n",
       "                          graduate_degree      31089.653667  31771.32100\n",
       "                          primary_education    21846.080764  20159.18600\n",
       "                          secondary_education  24171.737244  21536.34400\n",
       "                          some_college         27730.155043  24795.98700\n",
       "entrepreneur              bachelors's_degree   79866.103000  79866.10300\n",
       "paternity/maternity_leave secondary_education   8612.661000   8612.66100\n",
       "retiree                   bachelors's_degree   26948.808774  23577.73400\n",
       "                          graduate_degree      28334.215000  28334.21500\n",
       "                          primary_education    17708.602162  16296.12000\n",
       "                          secondary_education  20807.078217  18366.45900\n",
       "                          some_college         22102.261427  19221.90300\n",
       "student                   bachelors's_degree   15712.260000  15712.26000\n",
       "unemployed                bachelors's_degree   32435.602000  32435.60200\n",
       "                          secondary_education   9593.119000   9593.11900"
      ]
     },
     "execution_count": 53,
     "metadata": {},
     "output_type": "execute_result"
    }
   ],
   "source": [
    "data_grouped_income_1 = data_credit_scoring.groupby(['income_type', 'education']).agg({'total_income':['mean', 'median']})\n",
    "data_grouped_income_1"
   ]
  },
  {
   "cell_type": "code",
   "execution_count": 54,
   "id": "3635fdba",
   "metadata": {},
   "outputs": [],
   "source": [
    "def fill_total_income_1(row):\n",
    "    gen = row['gender']\n",
    "    edu = row['education']\n",
    "    income_type = row['income_type']\n",
    "    if pd.isna(row['total_income']):\n",
    "        return data_grouped_income_1.loc[(income_type, edu)][1]\n",
    "    return row['total_income']\n",
    "\n",
    "data_credit_scoring['total_income'] = data_credit_scoring.apply(fill_total_income_1, axis = 1)"
   ]
  },
  {
   "cell_type": "code",
   "execution_count": 55,
   "id": "b2e11fe3",
   "metadata": {},
   "outputs": [
    {
     "data": {
      "text/plain": [
       "children               0\n",
       "days_employed       2103\n",
       "dob_years              0\n",
       "education              0\n",
       "education_id           0\n",
       "family_status          0\n",
       "family_status_id       0\n",
       "gender                 0\n",
       "income_type            0\n",
       "debt                   0\n",
       "total_income           0\n",
       "purpose                0\n",
       "age_group              0\n",
       "dtype: int64"
      ]
     },
     "execution_count": 55,
     "metadata": {},
     "output_type": "execute_result"
    }
   ],
   "source": [
    "data_credit_scoring.isna().sum()"
   ]
  },
  {
   "cell_type": "markdown",
   "id": "af0b19b5",
   "metadata": {},
   "source": [
    "Ya no quedan valores ausentes en la columna `total_income`."
   ]
  },
  {
   "cell_type": "code",
   "execution_count": 56,
   "id": "47e79712",
   "metadata": {
    "scrolled": false
   },
   "outputs": [
    {
     "data": {
      "text/html": [
       "<div>\n",
       "<style scoped>\n",
       "    .dataframe tbody tr th:only-of-type {\n",
       "        vertical-align: middle;\n",
       "    }\n",
       "\n",
       "    .dataframe tbody tr th {\n",
       "        vertical-align: top;\n",
       "    }\n",
       "\n",
       "    .dataframe thead tr th {\n",
       "        text-align: left;\n",
       "    }\n",
       "\n",
       "    .dataframe thead tr:last-of-type th {\n",
       "        text-align: right;\n",
       "    }\n",
       "</style>\n",
       "<table border=\"1\" class=\"dataframe\">\n",
       "  <thead>\n",
       "    <tr>\n",
       "      <th></th>\n",
       "      <th></th>\n",
       "      <th></th>\n",
       "      <th></th>\n",
       "      <th colspan=\"2\" halign=\"left\">days_employed</th>\n",
       "    </tr>\n",
       "    <tr>\n",
       "      <th></th>\n",
       "      <th></th>\n",
       "      <th></th>\n",
       "      <th></th>\n",
       "      <th>mean</th>\n",
       "      <th>median</th>\n",
       "    </tr>\n",
       "    <tr>\n",
       "      <th>age_group</th>\n",
       "      <th>gender</th>\n",
       "      <th>income_type</th>\n",
       "      <th>education</th>\n",
       "      <th></th>\n",
       "      <th></th>\n",
       "    </tr>\n",
       "  </thead>\n",
       "  <tbody>\n",
       "    <tr>\n",
       "      <th rowspan=\"5\" valign=\"top\">0-9</th>\n",
       "      <th rowspan=\"5\" valign=\"top\">F</th>\n",
       "      <th rowspan=\"2\" valign=\"top\">business</th>\n",
       "      <th>bachelors's_degree</th>\n",
       "      <td>1486.679192</td>\n",
       "      <td>1455.738913</td>\n",
       "    </tr>\n",
       "    <tr>\n",
       "      <th>secondary_education</th>\n",
       "      <td>1754.707238</td>\n",
       "      <td>934.654854</td>\n",
       "    </tr>\n",
       "    <tr>\n",
       "      <th rowspan=\"2\" valign=\"top\">civil servant</th>\n",
       "      <th>bachelors's_degree</th>\n",
       "      <td>4915.077628</td>\n",
       "      <td>4774.343347</td>\n",
       "    </tr>\n",
       "    <tr>\n",
       "      <th>secondary_education</th>\n",
       "      <td>7742.056387</td>\n",
       "      <td>7742.056387</td>\n",
       "    </tr>\n",
       "    <tr>\n",
       "      <th>employee</th>\n",
       "      <th>bachelors's_degree</th>\n",
       "      <td>2382.280807</td>\n",
       "      <td>1605.506161</td>\n",
       "    </tr>\n",
       "    <tr>\n",
       "      <th>...</th>\n",
       "      <th>...</th>\n",
       "      <th>...</th>\n",
       "      <th>...</th>\n",
       "      <td>...</td>\n",
       "      <td>...</td>\n",
       "    </tr>\n",
       "    <tr>\n",
       "      <th rowspan=\"5\" valign=\"top\">70+</th>\n",
       "      <th rowspan=\"5\" valign=\"top\">M</th>\n",
       "      <th>employee</th>\n",
       "      <th>secondary_education</th>\n",
       "      <td>4203.372328</td>\n",
       "      <td>4203.372328</td>\n",
       "    </tr>\n",
       "    <tr>\n",
       "      <th rowspan=\"4\" valign=\"top\">retiree</th>\n",
       "      <th>bachelors's_degree</th>\n",
       "      <td>15587.651674</td>\n",
       "      <td>15600.253760</td>\n",
       "    </tr>\n",
       "    <tr>\n",
       "      <th>primary_education</th>\n",
       "      <td>14169.651857</td>\n",
       "      <td>14169.651857</td>\n",
       "    </tr>\n",
       "    <tr>\n",
       "      <th>secondary_education</th>\n",
       "      <td>14926.883537</td>\n",
       "      <td>14849.331299</td>\n",
       "    </tr>\n",
       "    <tr>\n",
       "      <th>some_college</th>\n",
       "      <td>14712.997087</td>\n",
       "      <td>14712.997087</td>\n",
       "    </tr>\n",
       "  </tbody>\n",
       "</table>\n",
       "<p>194 rows × 2 columns</p>\n",
       "</div>"
      ],
      "text/plain": [
       "                                                   days_employed              \n",
       "                                                            mean        median\n",
       "age_group gender income_type   education                                      \n",
       "0-9       F      business      bachelors's_degree    1486.679192   1455.738913\n",
       "                               secondary_education   1754.707238    934.654854\n",
       "                 civil servant bachelors's_degree    4915.077628   4774.343347\n",
       "                               secondary_education   7742.056387   7742.056387\n",
       "                 employee      bachelors's_degree    2382.280807   1605.506161\n",
       "...                                                          ...           ...\n",
       "70+       M      employee      secondary_education   4203.372328   4203.372328\n",
       "                 retiree       bachelors's_degree   15587.651674  15600.253760\n",
       "                               primary_education    14169.651857  14169.651857\n",
       "                               secondary_education  14926.883537  14849.331299\n",
       "                               some_college         14712.997087  14712.997087\n",
       "\n",
       "[194 rows x 2 columns]"
      ]
     },
     "execution_count": 56,
     "metadata": {},
     "output_type": "execute_result"
    }
   ],
   "source": [
    "data_grouped_days_1 = data_credit_scoring.groupby(['age_group', 'gender', 'income_type', 'education']).agg({'days_employed':['mean', 'median']})\n",
    "data_grouped_days_1"
   ]
  },
  {
   "cell_type": "markdown",
   "id": "815d2d4b",
   "metadata": {},
   "source": [
    "Como hicimos con el `ingreso total`, hemos agrupado por las columnas `gender`, `education`, `income_type` y `age_group`, para analizar las medidas de tendencia central en cada caso. Así como estas características infuyen en el ingreso total, es muy probable que estén determinando en alguna medida los `días empleado`. Al analizar los datos podemos decir que: \n",
    "\n",
    "* Se puede ver que el valor medio es en algunos casos diferente a la mediana. **Lo que motiva a usar la medianas para sustituir los datos.**"
   ]
  },
  {
   "cell_type": "code",
   "execution_count": 57,
   "id": "4f8e4154",
   "metadata": {},
   "outputs": [],
   "source": [
    "def fill_days_employed(row):\n",
    "    gen = row['gender']\n",
    "    edu = row['education']\n",
    "    income_type = row['income_type']\n",
    "    age = row['age_group']\n",
    "    if math.isnan(row['days_employed']):\n",
    "        return data_grouped_days_1.loc[(age, gen, income_type, edu)][1]\n",
    "    return row['days_employed']\n",
    "\n",
    "data_credit_scoring['days_employed'] = data_credit_scoring.apply(fill_days_employed, axis = 1)"
   ]
  },
  {
   "cell_type": "code",
   "execution_count": 58,
   "id": "d6131cc7",
   "metadata": {},
   "outputs": [
    {
     "data": {
      "text/plain": [
       "children            0\n",
       "days_employed       5\n",
       "dob_years           0\n",
       "education           0\n",
       "education_id        0\n",
       "family_status       0\n",
       "family_status_id    0\n",
       "gender              0\n",
       "income_type         0\n",
       "debt                0\n",
       "total_income        0\n",
       "purpose             0\n",
       "age_group           0\n",
       "dtype: int64"
      ]
     },
     "execution_count": 58,
     "metadata": {},
     "output_type": "execute_result"
    }
   ],
   "source": [
    "data_credit_scoring.isna().sum()"
   ]
  },
  {
   "cell_type": "code",
   "execution_count": 59,
   "id": "850b6193",
   "metadata": {},
   "outputs": [
    {
     "data": {
      "text/html": [
       "<div>\n",
       "<style scoped>\n",
       "    .dataframe tbody tr th:only-of-type {\n",
       "        vertical-align: middle;\n",
       "    }\n",
       "\n",
       "    .dataframe tbody tr th {\n",
       "        vertical-align: top;\n",
       "    }\n",
       "\n",
       "    .dataframe thead tr th {\n",
       "        text-align: left;\n",
       "    }\n",
       "\n",
       "    .dataframe thead tr:last-of-type th {\n",
       "        text-align: right;\n",
       "    }\n",
       "</style>\n",
       "<table border=\"1\" class=\"dataframe\">\n",
       "  <thead>\n",
       "    <tr>\n",
       "      <th></th>\n",
       "      <th></th>\n",
       "      <th colspan=\"2\" halign=\"left\">days_employed</th>\n",
       "    </tr>\n",
       "    <tr>\n",
       "      <th></th>\n",
       "      <th></th>\n",
       "      <th>mean</th>\n",
       "      <th>median</th>\n",
       "    </tr>\n",
       "    <tr>\n",
       "      <th>income_type</th>\n",
       "      <th>education</th>\n",
       "      <th></th>\n",
       "      <th></th>\n",
       "    </tr>\n",
       "  </thead>\n",
       "  <tbody>\n",
       "    <tr>\n",
       "      <th rowspan=\"4\" valign=\"top\">business</th>\n",
       "      <th>bachelors's_degree</th>\n",
       "      <td>1971.918294</td>\n",
       "      <td>1526.115535</td>\n",
       "    </tr>\n",
       "    <tr>\n",
       "      <th>primary_education</th>\n",
       "      <td>1994.160615</td>\n",
       "      <td>1166.810199</td>\n",
       "    </tr>\n",
       "    <tr>\n",
       "      <th>secondary_education</th>\n",
       "      <td>2187.259499</td>\n",
       "      <td>1667.967920</td>\n",
       "    </tr>\n",
       "    <tr>\n",
       "      <th>some_college</th>\n",
       "      <td>1405.909999</td>\n",
       "      <td>1020.794975</td>\n",
       "    </tr>\n",
       "    <tr>\n",
       "      <th rowspan=\"5\" valign=\"top\">civil servant</th>\n",
       "      <th>bachelors's_degree</th>\n",
       "      <td>3181.853739</td>\n",
       "      <td>2601.350715</td>\n",
       "    </tr>\n",
       "    <tr>\n",
       "      <th>graduate_degree</th>\n",
       "      <td>5968.075884</td>\n",
       "      <td>5968.075884</td>\n",
       "    </tr>\n",
       "    <tr>\n",
       "      <th>primary_education</th>\n",
       "      <td>3420.988890</td>\n",
       "      <td>3043.933615</td>\n",
       "    </tr>\n",
       "    <tr>\n",
       "      <th>secondary_education</th>\n",
       "      <td>3551.091824</td>\n",
       "      <td>2924.900719</td>\n",
       "    </tr>\n",
       "    <tr>\n",
       "      <th>some_college</th>\n",
       "      <td>2262.523824</td>\n",
       "      <td>2012.889008</td>\n",
       "    </tr>\n",
       "    <tr>\n",
       "      <th rowspan=\"5\" valign=\"top\">employee</th>\n",
       "      <th>bachelors's_degree</th>\n",
       "      <td>2208.429232</td>\n",
       "      <td>1582.673278</td>\n",
       "    </tr>\n",
       "    <tr>\n",
       "      <th>graduate_degree</th>\n",
       "      <td>2704.223421</td>\n",
       "      <td>2351.431934</td>\n",
       "    </tr>\n",
       "    <tr>\n",
       "      <th>primary_education</th>\n",
       "      <td>1835.978305</td>\n",
       "      <td>1204.830935</td>\n",
       "    </tr>\n",
       "    <tr>\n",
       "      <th>secondary_education</th>\n",
       "      <td>2326.180917</td>\n",
       "      <td>1652.481624</td>\n",
       "    </tr>\n",
       "    <tr>\n",
       "      <th>some_college</th>\n",
       "      <td>1583.435142</td>\n",
       "      <td>1203.830172</td>\n",
       "    </tr>\n",
       "    <tr>\n",
       "      <th>entrepreneur</th>\n",
       "      <th>bachelors's_degree</th>\n",
       "      <td>520.848083</td>\n",
       "      <td>520.848083</td>\n",
       "    </tr>\n",
       "    <tr>\n",
       "      <th>paternity/maternity_leave</th>\n",
       "      <th>secondary_education</th>\n",
       "      <td>3296.759962</td>\n",
       "      <td>3296.759962</td>\n",
       "    </tr>\n",
       "    <tr>\n",
       "      <th rowspan=\"5\" valign=\"top\">retiree</th>\n",
       "      <th>bachelors's_degree</th>\n",
       "      <td>15234.482941</td>\n",
       "      <td>15256.798534</td>\n",
       "    </tr>\n",
       "    <tr>\n",
       "      <th>graduate_degree</th>\n",
       "      <td>14889.101589</td>\n",
       "      <td>14889.101589</td>\n",
       "    </tr>\n",
       "    <tr>\n",
       "      <th>primary_education</th>\n",
       "      <td>15117.773387</td>\n",
       "      <td>15043.836127</td>\n",
       "    </tr>\n",
       "    <tr>\n",
       "      <th>secondary_education</th>\n",
       "      <td>15226.191876</td>\n",
       "      <td>15252.633658</td>\n",
       "    </tr>\n",
       "    <tr>\n",
       "      <th>some_college</th>\n",
       "      <td>15422.573788</td>\n",
       "      <td>15528.163784</td>\n",
       "    </tr>\n",
       "    <tr>\n",
       "      <th>student</th>\n",
       "      <th>bachelors's_degree</th>\n",
       "      <td>578.751554</td>\n",
       "      <td>578.751554</td>\n",
       "    </tr>\n",
       "    <tr>\n",
       "      <th rowspan=\"2\" valign=\"top\">unemployed</th>\n",
       "      <th>bachelors's_degree</th>\n",
       "      <td>16489.775555</td>\n",
       "      <td>16489.775555</td>\n",
       "    </tr>\n",
       "    <tr>\n",
       "      <th>secondary_education</th>\n",
       "      <td>14079.592045</td>\n",
       "      <td>14079.592045</td>\n",
       "    </tr>\n",
       "  </tbody>\n",
       "</table>\n",
       "</div>"
      ],
      "text/plain": [
       "                                              days_employed              \n",
       "                                                       mean        median\n",
       "income_type               education                                      \n",
       "business                  bachelors's_degree    1971.918294   1526.115535\n",
       "                          primary_education     1994.160615   1166.810199\n",
       "                          secondary_education   2187.259499   1667.967920\n",
       "                          some_college          1405.909999   1020.794975\n",
       "civil servant             bachelors's_degree    3181.853739   2601.350715\n",
       "                          graduate_degree       5968.075884   5968.075884\n",
       "                          primary_education     3420.988890   3043.933615\n",
       "                          secondary_education   3551.091824   2924.900719\n",
       "                          some_college          2262.523824   2012.889008\n",
       "employee                  bachelors's_degree    2208.429232   1582.673278\n",
       "                          graduate_degree       2704.223421   2351.431934\n",
       "                          primary_education     1835.978305   1204.830935\n",
       "                          secondary_education   2326.180917   1652.481624\n",
       "                          some_college          1583.435142   1203.830172\n",
       "entrepreneur              bachelors's_degree     520.848083    520.848083\n",
       "paternity/maternity_leave secondary_education   3296.759962   3296.759962\n",
       "retiree                   bachelors's_degree   15234.482941  15256.798534\n",
       "                          graduate_degree      14889.101589  14889.101589\n",
       "                          primary_education    15117.773387  15043.836127\n",
       "                          secondary_education  15226.191876  15252.633658\n",
       "                          some_college         15422.573788  15528.163784\n",
       "student                   bachelors's_degree     578.751554    578.751554\n",
       "unemployed                bachelors's_degree   16489.775555  16489.775555\n",
       "                          secondary_education  14079.592045  14079.592045"
      ]
     },
     "execution_count": 59,
     "metadata": {},
     "output_type": "execute_result"
    }
   ],
   "source": [
    "data_grouped_days_2 = data_credit_scoring.groupby(['income_type', 'education']).agg({'days_employed':['mean', 'median']})\n",
    "data_grouped_days_2"
   ]
  },
  {
   "cell_type": "code",
   "execution_count": 60,
   "id": "6cd7bbc4",
   "metadata": {},
   "outputs": [],
   "source": [
    "def fill_days_employed_1(row):\n",
    "    gen = row['gender']\n",
    "    edu = row['education']\n",
    "    income_type = row['income_type']\n",
    "    age = row['age_group']\n",
    "    if math.isnan(row['days_employed']):\n",
    "        return data_grouped_days_2.loc[(income_type, edu)][1]\n",
    "    return row['days_employed']\n",
    "\n",
    "data_credit_scoring['days_employed'] = data_credit_scoring.apply(fill_days_employed_1, axis = 1)"
   ]
  },
  {
   "cell_type": "code",
   "execution_count": 61,
   "id": "fc19b5eb",
   "metadata": {},
   "outputs": [
    {
     "data": {
      "text/plain": [
       "children            0\n",
       "days_employed       0\n",
       "dob_years           0\n",
       "education           0\n",
       "education_id        0\n",
       "family_status       0\n",
       "family_status_id    0\n",
       "gender              0\n",
       "income_type         0\n",
       "debt                0\n",
       "total_income        0\n",
       "purpose             0\n",
       "age_group           0\n",
       "dtype: int64"
      ]
     },
     "execution_count": 61,
     "metadata": {},
     "output_type": "execute_result"
    }
   ],
   "source": [
    "data_credit_scoring.isna().sum()"
   ]
  },
  {
   "cell_type": "markdown",
   "id": "43986db5",
   "metadata": {},
   "source": [
    "**Comentario:** Se puede ver que ya no existen valores ausentes en el DataFrame."
   ]
  },
  {
   "cell_type": "markdown",
   "id": "50b434a8",
   "metadata": {},
   "source": [
    "## Clasificación de datos"
   ]
  },
  {
   "cell_type": "code",
   "execution_count": 62,
   "id": "d4491798",
   "metadata": {},
   "outputs": [
    {
     "data": {
      "text/plain": [
       "wedding ceremony                            791\n",
       "having a wedding                            768\n",
       "to have a wedding                           765\n",
       "real estate transactions                    675\n",
       "buy commercial real estate                  661\n",
       "housing transactions                        652\n",
       "buying property for renting out             651\n",
       "transactions with commercial real estate    650\n",
       "purchase of the house                       646\n",
       "housing                                     646\n",
       "purchase of the house for my family         638\n",
       "construction of own property                635\n",
       "property                                    633\n",
       "transactions with my real estate            627\n",
       "building a real estate                      624\n",
       "buy real estate                             621\n",
       "purchase of my own house                    620\n",
       "building a property                         619\n",
       "housing renovation                          607\n",
       "buy residential real estate                 606\n",
       "buying my own car                           505\n",
       "going to university                         496\n",
       "car                                         494\n",
       "second-hand car purchase                    486\n",
       "to own a car                                478\n",
       "buying a second-hand car                    478\n",
       "cars                                        478\n",
       "to buy a car                                471\n",
       "car purchase                                461\n",
       "supplementary education                     460\n",
       "purchase of a car                           455\n",
       "university education                        452\n",
       "education                                   447\n",
       "to get a supplementary education            446\n",
       "getting an education                        442\n",
       "profile education                           436\n",
       "getting higher education                    426\n",
       "to become educated                          408\n",
       "Name: purpose, dtype: int64"
      ]
     },
     "execution_count": 62,
     "metadata": {},
     "output_type": "execute_result"
    }
   ],
   "source": [
    "data_credit_scoring['purpose'].value_counts()"
   ]
  },
  {
   "cell_type": "code",
   "execution_count": 63,
   "id": "66c3fd0d",
   "metadata": {},
   "outputs": [],
   "source": [
    "def puporse_groups(row):\n",
    "    type_purpose = row['purpose']\n",
    "    if 'wedding' in type_purpose:\n",
    "        return 'wedding'\n",
    "    elif ('property' in type_purpose) or ('real estate' in type_purpose):\n",
    "        return 'real_estate'\n",
    "    elif ('education' in type_purpose) or ('university' in type_purpose) or ('educated' in type_purpose):\n",
    "        return 'education_purpose'\n",
    "    elif ('car' in type_purpose) or ('cars' in type_purpose):\n",
    "        return 'car'\n",
    "    elif ('house' in type_purpose) or ('housing' in type_purpose):\n",
    "        return 'house'\n",
    "    else: \n",
    "        return 'other_purpose'\n",
    "    \n",
    "data_credit_scoring['purpose_group'] = data_credit_scoring.apply(puporse_groups, axis = 1)"
   ]
  },
  {
   "cell_type": "code",
   "execution_count": 64,
   "id": "fa4f81f5",
   "metadata": {},
   "outputs": [
    {
     "name": "stdout",
     "output_type": "stream",
     "text": [
      "<class 'pandas.core.frame.DataFrame'>\n",
      "RangeIndex: 21454 entries, 0 to 21453\n",
      "Data columns (total 14 columns):\n",
      " #   Column            Non-Null Count  Dtype  \n",
      "---  ------            --------------  -----  \n",
      " 0   children          21454 non-null  int64  \n",
      " 1   days_employed     21454 non-null  float64\n",
      " 2   dob_years         21454 non-null  int64  \n",
      " 3   education         21454 non-null  object \n",
      " 4   education_id      21454 non-null  int64  \n",
      " 5   family_status     21454 non-null  object \n",
      " 6   family_status_id  21454 non-null  int64  \n",
      " 7   gender            21454 non-null  object \n",
      " 8   income_type       21454 non-null  object \n",
      " 9   debt              21454 non-null  int64  \n",
      " 10  total_income      21454 non-null  float64\n",
      " 11  purpose           21454 non-null  object \n",
      " 12  age_group         21454 non-null  object \n",
      " 13  purpose_group     21454 non-null  object \n",
      "dtypes: float64(2), int64(5), object(7)\n",
      "memory usage: 2.3+ MB\n"
     ]
    }
   ],
   "source": [
    "data_credit_scoring.info()"
   ]
  },
  {
   "cell_type": "code",
   "execution_count": 65,
   "id": "1085a08e",
   "metadata": {},
   "outputs": [
    {
     "data": {
      "text/html": [
       "<div>\n",
       "<style scoped>\n",
       "    .dataframe tbody tr th:only-of-type {\n",
       "        vertical-align: middle;\n",
       "    }\n",
       "\n",
       "    .dataframe tbody tr th {\n",
       "        vertical-align: top;\n",
       "    }\n",
       "\n",
       "    .dataframe thead th {\n",
       "        text-align: right;\n",
       "    }\n",
       "</style>\n",
       "<table border=\"1\" class=\"dataframe\">\n",
       "  <thead>\n",
       "    <tr style=\"text-align: right;\">\n",
       "      <th></th>\n",
       "      <th>children</th>\n",
       "      <th>days_employed</th>\n",
       "      <th>dob_years</th>\n",
       "      <th>education</th>\n",
       "      <th>education_id</th>\n",
       "      <th>family_status</th>\n",
       "      <th>family_status_id</th>\n",
       "      <th>gender</th>\n",
       "      <th>income_type</th>\n",
       "      <th>debt</th>\n",
       "      <th>total_income</th>\n",
       "      <th>purpose</th>\n",
       "      <th>age_group</th>\n",
       "      <th>purpose_group</th>\n",
       "    </tr>\n",
       "  </thead>\n",
       "  <tbody>\n",
       "    <tr>\n",
       "      <th>0</th>\n",
       "      <td>1</td>\n",
       "      <td>8437.673028</td>\n",
       "      <td>42</td>\n",
       "      <td>bachelors's_degree</td>\n",
       "      <td>0</td>\n",
       "      <td>married</td>\n",
       "      <td>0</td>\n",
       "      <td>F</td>\n",
       "      <td>employee</td>\n",
       "      <td>0</td>\n",
       "      <td>40620.102</td>\n",
       "      <td>purchase of the house</td>\n",
       "      <td>40-49</td>\n",
       "      <td>house</td>\n",
       "    </tr>\n",
       "    <tr>\n",
       "      <th>1</th>\n",
       "      <td>1</td>\n",
       "      <td>4024.803754</td>\n",
       "      <td>36</td>\n",
       "      <td>secondary_education</td>\n",
       "      <td>1</td>\n",
       "      <td>married</td>\n",
       "      <td>0</td>\n",
       "      <td>F</td>\n",
       "      <td>employee</td>\n",
       "      <td>0</td>\n",
       "      <td>17932.802</td>\n",
       "      <td>car purchase</td>\n",
       "      <td>30-39</td>\n",
       "      <td>car</td>\n",
       "    </tr>\n",
       "    <tr>\n",
       "      <th>2</th>\n",
       "      <td>0</td>\n",
       "      <td>5623.422610</td>\n",
       "      <td>33</td>\n",
       "      <td>secondary_education</td>\n",
       "      <td>1</td>\n",
       "      <td>married</td>\n",
       "      <td>0</td>\n",
       "      <td>M</td>\n",
       "      <td>employee</td>\n",
       "      <td>0</td>\n",
       "      <td>23341.752</td>\n",
       "      <td>purchase of the house</td>\n",
       "      <td>30-39</td>\n",
       "      <td>house</td>\n",
       "    </tr>\n",
       "    <tr>\n",
       "      <th>3</th>\n",
       "      <td>3</td>\n",
       "      <td>4124.747207</td>\n",
       "      <td>32</td>\n",
       "      <td>secondary_education</td>\n",
       "      <td>1</td>\n",
       "      <td>married</td>\n",
       "      <td>0</td>\n",
       "      <td>M</td>\n",
       "      <td>employee</td>\n",
       "      <td>0</td>\n",
       "      <td>42820.568</td>\n",
       "      <td>supplementary education</td>\n",
       "      <td>30-39</td>\n",
       "      <td>education_purpose</td>\n",
       "    </tr>\n",
       "    <tr>\n",
       "      <th>4</th>\n",
       "      <td>0</td>\n",
       "      <td>14193.956148</td>\n",
       "      <td>53</td>\n",
       "      <td>secondary_education</td>\n",
       "      <td>1</td>\n",
       "      <td>civil_partnership</td>\n",
       "      <td>1</td>\n",
       "      <td>F</td>\n",
       "      <td>retiree</td>\n",
       "      <td>0</td>\n",
       "      <td>25378.572</td>\n",
       "      <td>to have a wedding</td>\n",
       "      <td>50-59</td>\n",
       "      <td>wedding</td>\n",
       "    </tr>\n",
       "    <tr>\n",
       "      <th>5</th>\n",
       "      <td>0</td>\n",
       "      <td>926.185831</td>\n",
       "      <td>27</td>\n",
       "      <td>bachelors's_degree</td>\n",
       "      <td>0</td>\n",
       "      <td>civil_partnership</td>\n",
       "      <td>1</td>\n",
       "      <td>M</td>\n",
       "      <td>business</td>\n",
       "      <td>0</td>\n",
       "      <td>40922.170</td>\n",
       "      <td>purchase of the house</td>\n",
       "      <td>20-29</td>\n",
       "      <td>house</td>\n",
       "    </tr>\n",
       "    <tr>\n",
       "      <th>6</th>\n",
       "      <td>0</td>\n",
       "      <td>2879.202052</td>\n",
       "      <td>43</td>\n",
       "      <td>bachelors's_degree</td>\n",
       "      <td>0</td>\n",
       "      <td>married</td>\n",
       "      <td>0</td>\n",
       "      <td>F</td>\n",
       "      <td>business</td>\n",
       "      <td>0</td>\n",
       "      <td>38484.156</td>\n",
       "      <td>housing transactions</td>\n",
       "      <td>40-49</td>\n",
       "      <td>house</td>\n",
       "    </tr>\n",
       "    <tr>\n",
       "      <th>7</th>\n",
       "      <td>0</td>\n",
       "      <td>152.779569</td>\n",
       "      <td>50</td>\n",
       "      <td>secondary_education</td>\n",
       "      <td>1</td>\n",
       "      <td>married</td>\n",
       "      <td>0</td>\n",
       "      <td>M</td>\n",
       "      <td>employee</td>\n",
       "      <td>0</td>\n",
       "      <td>21731.829</td>\n",
       "      <td>education</td>\n",
       "      <td>50-59</td>\n",
       "      <td>education_purpose</td>\n",
       "    </tr>\n",
       "    <tr>\n",
       "      <th>8</th>\n",
       "      <td>2</td>\n",
       "      <td>6929.865299</td>\n",
       "      <td>35</td>\n",
       "      <td>bachelors's_degree</td>\n",
       "      <td>0</td>\n",
       "      <td>civil_partnership</td>\n",
       "      <td>1</td>\n",
       "      <td>F</td>\n",
       "      <td>employee</td>\n",
       "      <td>0</td>\n",
       "      <td>15337.093</td>\n",
       "      <td>having a wedding</td>\n",
       "      <td>30-39</td>\n",
       "      <td>wedding</td>\n",
       "    </tr>\n",
       "    <tr>\n",
       "      <th>9</th>\n",
       "      <td>0</td>\n",
       "      <td>2188.756445</td>\n",
       "      <td>41</td>\n",
       "      <td>secondary_education</td>\n",
       "      <td>1</td>\n",
       "      <td>married</td>\n",
       "      <td>0</td>\n",
       "      <td>M</td>\n",
       "      <td>employee</td>\n",
       "      <td>0</td>\n",
       "      <td>23108.150</td>\n",
       "      <td>purchase of the house for my family</td>\n",
       "      <td>40-49</td>\n",
       "      <td>house</td>\n",
       "    </tr>\n",
       "  </tbody>\n",
       "</table>\n",
       "</div>"
      ],
      "text/plain": [
       "   children  days_employed  dob_years            education  education_id  \\\n",
       "0         1    8437.673028         42   bachelors's_degree             0   \n",
       "1         1    4024.803754         36  secondary_education             1   \n",
       "2         0    5623.422610         33  secondary_education             1   \n",
       "3         3    4124.747207         32  secondary_education             1   \n",
       "4         0   14193.956148         53  secondary_education             1   \n",
       "5         0     926.185831         27   bachelors's_degree             0   \n",
       "6         0    2879.202052         43   bachelors's_degree             0   \n",
       "7         0     152.779569         50  secondary_education             1   \n",
       "8         2    6929.865299         35   bachelors's_degree             0   \n",
       "9         0    2188.756445         41  secondary_education             1   \n",
       "\n",
       "       family_status  family_status_id gender income_type  debt  total_income  \\\n",
       "0            married                 0      F    employee     0     40620.102   \n",
       "1            married                 0      F    employee     0     17932.802   \n",
       "2            married                 0      M    employee     0     23341.752   \n",
       "3            married                 0      M    employee     0     42820.568   \n",
       "4  civil_partnership                 1      F     retiree     0     25378.572   \n",
       "5  civil_partnership                 1      M    business     0     40922.170   \n",
       "6            married                 0      F    business     0     38484.156   \n",
       "7            married                 0      M    employee     0     21731.829   \n",
       "8  civil_partnership                 1      F    employee     0     15337.093   \n",
       "9            married                 0      M    employee     0     23108.150   \n",
       "\n",
       "                               purpose age_group      purpose_group  \n",
       "0                purchase of the house     40-49              house  \n",
       "1                         car purchase     30-39                car  \n",
       "2                purchase of the house     30-39              house  \n",
       "3              supplementary education     30-39  education_purpose  \n",
       "4                    to have a wedding     50-59            wedding  \n",
       "5                purchase of the house     20-29              house  \n",
       "6                 housing transactions     40-49              house  \n",
       "7                            education     50-59  education_purpose  \n",
       "8                     having a wedding     30-39            wedding  \n",
       "9  purchase of the house for my family     40-49              house  "
      ]
     },
     "execution_count": 65,
     "metadata": {},
     "output_type": "execute_result"
    }
   ],
   "source": [
    "data_credit_scoring.head(10)"
   ]
  },
  {
   "cell_type": "code",
   "execution_count": 66,
   "id": "8056b29d",
   "metadata": {},
   "outputs": [
    {
     "data": {
      "text/plain": [
       "real_estate          7002\n",
       "car                  4306\n",
       "education_purpose    4013\n",
       "house                3809\n",
       "wedding              2324\n",
       "Name: purpose_group, dtype: int64"
      ]
     },
     "execution_count": 66,
     "metadata": {},
     "output_type": "execute_result"
    }
   ],
   "source": [
    "data_credit_scoring['purpose_group'].value_counts()"
   ]
  },
  {
   "cell_type": "markdown",
   "id": "921b91bf",
   "metadata": {},
   "source": [
    "<div class=\"alert alert-block alert-success\">\n",
    "    \n",
    "<b>Comentario del revisor</b> <a class=\"tocSkip\"></a>\n",
    "    \n",
    "Buen trabajo.\n",
    "</div>"
   ]
  },
  {
   "cell_type": "markdown",
   "id": "405449fb",
   "metadata": {},
   "source": [
    "Hemos creado una nueva variable categorica, `purpose_group`, que agrupa los tipos de propósito para pedir el crédito en **cinco grupos:** `house, wedding, real_state, car, education_purpose`."
   ]
  },
  {
   "cell_type": "code",
   "execution_count": 67,
   "id": "960f44ee",
   "metadata": {},
   "outputs": [
    {
     "name": "stdout",
     "output_type": "stream",
     "text": [
      "   children  days_employed  dob_years            education  education_id  \\\n",
      "0         1    8437.673028         42   bachelors's_degree             0   \n",
      "1         1    4024.803754         36  secondary_education             1   \n",
      "2         0    5623.422610         33  secondary_education             1   \n",
      "3         3    4124.747207         32  secondary_education             1   \n",
      "4         0   14193.956148         53  secondary_education             1   \n",
      "\n",
      "       family_status  family_status_id gender income_type  debt  total_income  \\\n",
      "0            married                 0      F    employee     0     40620.102   \n",
      "1            married                 0      F    employee     0     17932.802   \n",
      "2            married                 0      M    employee     0     23341.752   \n",
      "3            married                 0      M    employee     0     42820.568   \n",
      "4  civil_partnership                 1      F     retiree     0     25378.572   \n",
      "\n",
      "                   purpose age_group      purpose_group has_children  \n",
      "0    purchase of the house     40-49              house          Yes  \n",
      "1             car purchase     30-39                car          Yes  \n",
      "2    purchase of the house     30-39              house           No  \n",
      "3  supplementary education     30-39  education_purpose          Yes  \n",
      "4        to have a wedding     50-59            wedding           No  \n"
     ]
    }
   ],
   "source": [
    "def children_groups(row):\n",
    "    number = row['children']\n",
    "    if number == 0:\n",
    "        return 'No'\n",
    "    return 'Yes'\n",
    "data_credit_scoring['has_children'] = data_credit_scoring.apply(children_groups, axis = 1)\n",
    "print(data_credit_scoring.head())"
   ]
  },
  {
   "cell_type": "code",
   "execution_count": 68,
   "id": "f547c12e",
   "metadata": {},
   "outputs": [
    {
     "name": "stdout",
     "output_type": "stream",
     "text": [
      "married              12339\n",
      "civil_partnership     4151\n",
      "unmarried             2810\n",
      "divorced              1195\n",
      "widow/widower          959\n",
      "Name: family_status, dtype: int64\n"
     ]
    }
   ],
   "source": [
    "print(data_credit_scoring['family_status'].value_counts())"
   ]
  },
  {
   "cell_type": "code",
   "execution_count": 69,
   "id": "ac3cf826",
   "metadata": {},
   "outputs": [],
   "source": [
    "def married(row):\n",
    "    status_familiar = row['family_status']\n",
    "    if (status_familiar == 'married') or (status_familiar == 'civil partnership'):\n",
    "        return 'Yes'\n",
    "    return 'No'\n",
    "data_credit_scoring['married'] = data_credit_scoring.apply(married, axis = 1)"
   ]
  },
  {
   "cell_type": "markdown",
   "id": "95204efc",
   "metadata": {},
   "source": [
    "Hemos creado ua nuevo columna `married` que determina si una persona tiene una pareja estable o no. "
   ]
  },
  {
   "cell_type": "code",
   "execution_count": 70,
   "id": "2cbf924e",
   "metadata": {},
   "outputs": [],
   "source": [
    "per_total_income_25 = np.percentile(data_credit_scoring['total_income'], 25) \n",
    "per_total_income_75 = np.percentile(data_credit_scoring['total_income'], 75)\n",
    "\n",
    "def income_group(row):\n",
    "    total_income = row['total_income']\n",
    "    if 0 < total_income <= per_total_income_25:\n",
    "        return 'low_income'\n",
    "    elif per_total_income_25 < total_income < per_total_income_75:\n",
    "        return 'medium_income'\n",
    "    return 'high_income'\n",
    "\n",
    "data_credit_scoring['income_group'] = data_credit_scoring.apply(income_group, axis = 1)"
   ]
  },
  {
   "cell_type": "code",
   "execution_count": 71,
   "id": "cdf6143a",
   "metadata": {},
   "outputs": [
    {
     "data": {
      "text/html": [
       "<div>\n",
       "<style scoped>\n",
       "    .dataframe tbody tr th:only-of-type {\n",
       "        vertical-align: middle;\n",
       "    }\n",
       "\n",
       "    .dataframe tbody tr th {\n",
       "        vertical-align: top;\n",
       "    }\n",
       "\n",
       "    .dataframe thead th {\n",
       "        text-align: right;\n",
       "    }\n",
       "</style>\n",
       "<table border=\"1\" class=\"dataframe\">\n",
       "  <thead>\n",
       "    <tr style=\"text-align: right;\">\n",
       "      <th></th>\n",
       "      <th>children</th>\n",
       "      <th>days_employed</th>\n",
       "      <th>dob_years</th>\n",
       "      <th>education</th>\n",
       "      <th>education_id</th>\n",
       "      <th>family_status</th>\n",
       "      <th>family_status_id</th>\n",
       "      <th>gender</th>\n",
       "      <th>income_type</th>\n",
       "      <th>debt</th>\n",
       "      <th>total_income</th>\n",
       "      <th>purpose</th>\n",
       "      <th>age_group</th>\n",
       "      <th>purpose_group</th>\n",
       "      <th>has_children</th>\n",
       "      <th>married</th>\n",
       "      <th>income_group</th>\n",
       "    </tr>\n",
       "  </thead>\n",
       "  <tbody>\n",
       "    <tr>\n",
       "      <th>0</th>\n",
       "      <td>1</td>\n",
       "      <td>8437.673028</td>\n",
       "      <td>42</td>\n",
       "      <td>bachelors's_degree</td>\n",
       "      <td>0</td>\n",
       "      <td>married</td>\n",
       "      <td>0</td>\n",
       "      <td>F</td>\n",
       "      <td>employee</td>\n",
       "      <td>0</td>\n",
       "      <td>40620.102</td>\n",
       "      <td>purchase of the house</td>\n",
       "      <td>40-49</td>\n",
       "      <td>house</td>\n",
       "      <td>Yes</td>\n",
       "      <td>Yes</td>\n",
       "      <td>high_income</td>\n",
       "    </tr>\n",
       "    <tr>\n",
       "      <th>1</th>\n",
       "      <td>1</td>\n",
       "      <td>4024.803754</td>\n",
       "      <td>36</td>\n",
       "      <td>secondary_education</td>\n",
       "      <td>1</td>\n",
       "      <td>married</td>\n",
       "      <td>0</td>\n",
       "      <td>F</td>\n",
       "      <td>employee</td>\n",
       "      <td>0</td>\n",
       "      <td>17932.802</td>\n",
       "      <td>car purchase</td>\n",
       "      <td>30-39</td>\n",
       "      <td>car</td>\n",
       "      <td>Yes</td>\n",
       "      <td>Yes</td>\n",
       "      <td>medium_income</td>\n",
       "    </tr>\n",
       "    <tr>\n",
       "      <th>2</th>\n",
       "      <td>0</td>\n",
       "      <td>5623.422610</td>\n",
       "      <td>33</td>\n",
       "      <td>secondary_education</td>\n",
       "      <td>1</td>\n",
       "      <td>married</td>\n",
       "      <td>0</td>\n",
       "      <td>M</td>\n",
       "      <td>employee</td>\n",
       "      <td>0</td>\n",
       "      <td>23341.752</td>\n",
       "      <td>purchase of the house</td>\n",
       "      <td>30-39</td>\n",
       "      <td>house</td>\n",
       "      <td>No</td>\n",
       "      <td>Yes</td>\n",
       "      <td>medium_income</td>\n",
       "    </tr>\n",
       "    <tr>\n",
       "      <th>3</th>\n",
       "      <td>3</td>\n",
       "      <td>4124.747207</td>\n",
       "      <td>32</td>\n",
       "      <td>secondary_education</td>\n",
       "      <td>1</td>\n",
       "      <td>married</td>\n",
       "      <td>0</td>\n",
       "      <td>M</td>\n",
       "      <td>employee</td>\n",
       "      <td>0</td>\n",
       "      <td>42820.568</td>\n",
       "      <td>supplementary education</td>\n",
       "      <td>30-39</td>\n",
       "      <td>education_purpose</td>\n",
       "      <td>Yes</td>\n",
       "      <td>Yes</td>\n",
       "      <td>high_income</td>\n",
       "    </tr>\n",
       "    <tr>\n",
       "      <th>4</th>\n",
       "      <td>0</td>\n",
       "      <td>14193.956148</td>\n",
       "      <td>53</td>\n",
       "      <td>secondary_education</td>\n",
       "      <td>1</td>\n",
       "      <td>civil_partnership</td>\n",
       "      <td>1</td>\n",
       "      <td>F</td>\n",
       "      <td>retiree</td>\n",
       "      <td>0</td>\n",
       "      <td>25378.572</td>\n",
       "      <td>to have a wedding</td>\n",
       "      <td>50-59</td>\n",
       "      <td>wedding</td>\n",
       "      <td>No</td>\n",
       "      <td>No</td>\n",
       "      <td>medium_income</td>\n",
       "    </tr>\n",
       "    <tr>\n",
       "      <th>5</th>\n",
       "      <td>0</td>\n",
       "      <td>926.185831</td>\n",
       "      <td>27</td>\n",
       "      <td>bachelors's_degree</td>\n",
       "      <td>0</td>\n",
       "      <td>civil_partnership</td>\n",
       "      <td>1</td>\n",
       "      <td>M</td>\n",
       "      <td>business</td>\n",
       "      <td>0</td>\n",
       "      <td>40922.170</td>\n",
       "      <td>purchase of the house</td>\n",
       "      <td>20-29</td>\n",
       "      <td>house</td>\n",
       "      <td>No</td>\n",
       "      <td>No</td>\n",
       "      <td>high_income</td>\n",
       "    </tr>\n",
       "    <tr>\n",
       "      <th>6</th>\n",
       "      <td>0</td>\n",
       "      <td>2879.202052</td>\n",
       "      <td>43</td>\n",
       "      <td>bachelors's_degree</td>\n",
       "      <td>0</td>\n",
       "      <td>married</td>\n",
       "      <td>0</td>\n",
       "      <td>F</td>\n",
       "      <td>business</td>\n",
       "      <td>0</td>\n",
       "      <td>38484.156</td>\n",
       "      <td>housing transactions</td>\n",
       "      <td>40-49</td>\n",
       "      <td>house</td>\n",
       "      <td>No</td>\n",
       "      <td>Yes</td>\n",
       "      <td>high_income</td>\n",
       "    </tr>\n",
       "    <tr>\n",
       "      <th>7</th>\n",
       "      <td>0</td>\n",
       "      <td>152.779569</td>\n",
       "      <td>50</td>\n",
       "      <td>secondary_education</td>\n",
       "      <td>1</td>\n",
       "      <td>married</td>\n",
       "      <td>0</td>\n",
       "      <td>M</td>\n",
       "      <td>employee</td>\n",
       "      <td>0</td>\n",
       "      <td>21731.829</td>\n",
       "      <td>education</td>\n",
       "      <td>50-59</td>\n",
       "      <td>education_purpose</td>\n",
       "      <td>No</td>\n",
       "      <td>Yes</td>\n",
       "      <td>medium_income</td>\n",
       "    </tr>\n",
       "    <tr>\n",
       "      <th>8</th>\n",
       "      <td>2</td>\n",
       "      <td>6929.865299</td>\n",
       "      <td>35</td>\n",
       "      <td>bachelors's_degree</td>\n",
       "      <td>0</td>\n",
       "      <td>civil_partnership</td>\n",
       "      <td>1</td>\n",
       "      <td>F</td>\n",
       "      <td>employee</td>\n",
       "      <td>0</td>\n",
       "      <td>15337.093</td>\n",
       "      <td>having a wedding</td>\n",
       "      <td>30-39</td>\n",
       "      <td>wedding</td>\n",
       "      <td>Yes</td>\n",
       "      <td>No</td>\n",
       "      <td>low_income</td>\n",
       "    </tr>\n",
       "    <tr>\n",
       "      <th>9</th>\n",
       "      <td>0</td>\n",
       "      <td>2188.756445</td>\n",
       "      <td>41</td>\n",
       "      <td>secondary_education</td>\n",
       "      <td>1</td>\n",
       "      <td>married</td>\n",
       "      <td>0</td>\n",
       "      <td>M</td>\n",
       "      <td>employee</td>\n",
       "      <td>0</td>\n",
       "      <td>23108.150</td>\n",
       "      <td>purchase of the house for my family</td>\n",
       "      <td>40-49</td>\n",
       "      <td>house</td>\n",
       "      <td>No</td>\n",
       "      <td>Yes</td>\n",
       "      <td>medium_income</td>\n",
       "    </tr>\n",
       "    <tr>\n",
       "      <th>10</th>\n",
       "      <td>2</td>\n",
       "      <td>4171.483647</td>\n",
       "      <td>36</td>\n",
       "      <td>bachelors's_degree</td>\n",
       "      <td>0</td>\n",
       "      <td>married</td>\n",
       "      <td>0</td>\n",
       "      <td>M</td>\n",
       "      <td>business</td>\n",
       "      <td>0</td>\n",
       "      <td>18230.959</td>\n",
       "      <td>buy real estate</td>\n",
       "      <td>30-39</td>\n",
       "      <td>real_estate</td>\n",
       "      <td>Yes</td>\n",
       "      <td>Yes</td>\n",
       "      <td>medium_income</td>\n",
       "    </tr>\n",
       "    <tr>\n",
       "      <th>11</th>\n",
       "      <td>0</td>\n",
       "      <td>792.701887</td>\n",
       "      <td>40</td>\n",
       "      <td>secondary_education</td>\n",
       "      <td>1</td>\n",
       "      <td>married</td>\n",
       "      <td>0</td>\n",
       "      <td>F</td>\n",
       "      <td>employee</td>\n",
       "      <td>0</td>\n",
       "      <td>12331.077</td>\n",
       "      <td>buy commercial real estate</td>\n",
       "      <td>40-49</td>\n",
       "      <td>real_estate</td>\n",
       "      <td>No</td>\n",
       "      <td>Yes</td>\n",
       "      <td>low_income</td>\n",
       "    </tr>\n",
       "    <tr>\n",
       "      <th>12</th>\n",
       "      <td>0</td>\n",
       "      <td>15174.193332</td>\n",
       "      <td>65</td>\n",
       "      <td>secondary_education</td>\n",
       "      <td>1</td>\n",
       "      <td>civil_partnership</td>\n",
       "      <td>1</td>\n",
       "      <td>M</td>\n",
       "      <td>retiree</td>\n",
       "      <td>0</td>\n",
       "      <td>18655.606</td>\n",
       "      <td>to have a wedding</td>\n",
       "      <td>60-69</td>\n",
       "      <td>wedding</td>\n",
       "      <td>No</td>\n",
       "      <td>No</td>\n",
       "      <td>medium_income</td>\n",
       "    </tr>\n",
       "    <tr>\n",
       "      <th>13</th>\n",
       "      <td>0</td>\n",
       "      <td>1846.641941</td>\n",
       "      <td>54</td>\n",
       "      <td>some_college</td>\n",
       "      <td>2</td>\n",
       "      <td>married</td>\n",
       "      <td>0</td>\n",
       "      <td>F</td>\n",
       "      <td>employee</td>\n",
       "      <td>0</td>\n",
       "      <td>20873.317</td>\n",
       "      <td>car purchase</td>\n",
       "      <td>50-59</td>\n",
       "      <td>car</td>\n",
       "      <td>No</td>\n",
       "      <td>Yes</td>\n",
       "      <td>medium_income</td>\n",
       "    </tr>\n",
       "    <tr>\n",
       "      <th>14</th>\n",
       "      <td>0</td>\n",
       "      <td>1844.956182</td>\n",
       "      <td>56</td>\n",
       "      <td>bachelors's_degree</td>\n",
       "      <td>0</td>\n",
       "      <td>civil_partnership</td>\n",
       "      <td>1</td>\n",
       "      <td>F</td>\n",
       "      <td>business</td>\n",
       "      <td>1</td>\n",
       "      <td>26420.466</td>\n",
       "      <td>buy residential real estate</td>\n",
       "      <td>50-59</td>\n",
       "      <td>real_estate</td>\n",
       "      <td>No</td>\n",
       "      <td>No</td>\n",
       "      <td>medium_income</td>\n",
       "    </tr>\n",
       "  </tbody>\n",
       "</table>\n",
       "</div>"
      ],
      "text/plain": [
       "    children  days_employed  dob_years            education  education_id  \\\n",
       "0          1    8437.673028         42   bachelors's_degree             0   \n",
       "1          1    4024.803754         36  secondary_education             1   \n",
       "2          0    5623.422610         33  secondary_education             1   \n",
       "3          3    4124.747207         32  secondary_education             1   \n",
       "4          0   14193.956148         53  secondary_education             1   \n",
       "5          0     926.185831         27   bachelors's_degree             0   \n",
       "6          0    2879.202052         43   bachelors's_degree             0   \n",
       "7          0     152.779569         50  secondary_education             1   \n",
       "8          2    6929.865299         35   bachelors's_degree             0   \n",
       "9          0    2188.756445         41  secondary_education             1   \n",
       "10         2    4171.483647         36   bachelors's_degree             0   \n",
       "11         0     792.701887         40  secondary_education             1   \n",
       "12         0   15174.193332         65  secondary_education             1   \n",
       "13         0    1846.641941         54         some_college             2   \n",
       "14         0    1844.956182         56   bachelors's_degree             0   \n",
       "\n",
       "        family_status  family_status_id gender income_type  debt  \\\n",
       "0             married                 0      F    employee     0   \n",
       "1             married                 0      F    employee     0   \n",
       "2             married                 0      M    employee     0   \n",
       "3             married                 0      M    employee     0   \n",
       "4   civil_partnership                 1      F     retiree     0   \n",
       "5   civil_partnership                 1      M    business     0   \n",
       "6             married                 0      F    business     0   \n",
       "7             married                 0      M    employee     0   \n",
       "8   civil_partnership                 1      F    employee     0   \n",
       "9             married                 0      M    employee     0   \n",
       "10            married                 0      M    business     0   \n",
       "11            married                 0      F    employee     0   \n",
       "12  civil_partnership                 1      M     retiree     0   \n",
       "13            married                 0      F    employee     0   \n",
       "14  civil_partnership                 1      F    business     1   \n",
       "\n",
       "    total_income                              purpose age_group  \\\n",
       "0      40620.102                purchase of the house     40-49   \n",
       "1      17932.802                         car purchase     30-39   \n",
       "2      23341.752                purchase of the house     30-39   \n",
       "3      42820.568              supplementary education     30-39   \n",
       "4      25378.572                    to have a wedding     50-59   \n",
       "5      40922.170                purchase of the house     20-29   \n",
       "6      38484.156                 housing transactions     40-49   \n",
       "7      21731.829                            education     50-59   \n",
       "8      15337.093                     having a wedding     30-39   \n",
       "9      23108.150  purchase of the house for my family     40-49   \n",
       "10     18230.959                      buy real estate     30-39   \n",
       "11     12331.077           buy commercial real estate     40-49   \n",
       "12     18655.606                    to have a wedding     60-69   \n",
       "13     20873.317                         car purchase     50-59   \n",
       "14     26420.466          buy residential real estate     50-59   \n",
       "\n",
       "        purpose_group has_children married   income_group  \n",
       "0               house          Yes     Yes    high_income  \n",
       "1                 car          Yes     Yes  medium_income  \n",
       "2               house           No     Yes  medium_income  \n",
       "3   education_purpose          Yes     Yes    high_income  \n",
       "4             wedding           No      No  medium_income  \n",
       "5               house           No      No    high_income  \n",
       "6               house           No     Yes    high_income  \n",
       "7   education_purpose           No     Yes  medium_income  \n",
       "8             wedding          Yes      No     low_income  \n",
       "9               house           No     Yes  medium_income  \n",
       "10        real_estate          Yes     Yes  medium_income  \n",
       "11        real_estate           No     Yes     low_income  \n",
       "12            wedding           No      No  medium_income  \n",
       "13                car           No     Yes  medium_income  \n",
       "14        real_estate           No      No  medium_income  "
      ]
     },
     "execution_count": 71,
     "metadata": {},
     "output_type": "execute_result"
    }
   ],
   "source": [
    "data_credit_scoring.head(15)"
   ]
  },
  {
   "cell_type": "markdown",
   "id": "6b3bbcc0",
   "metadata": {},
   "source": [
    "Para comprobar las hipótesis que se plantean nosotros hemos creado `cinco` nuevas columnas que agrupan datos de otras columnas: \n",
    "\n",
    "* `age_group`, agrupa los datos de edad en categorías de `10 años`.\n",
    "\n",
    "* `purpose group`, agrupa los propósitos para solicitar crédito en `cinco categorías`.\n",
    "\n",
    "* `has_children`, es una variable dicotómica que describe si el cliente tiene hijos o no. \n",
    "\n",
    "* `married`, divide a los encuestados en dos categorías, aquellos que tienen pareja estable y los que no. \n",
    "\n",
    "* `income_group`, divide a los encuestados por el nivel de ingresos."
   ]
  },
  {
   "cell_type": "markdown",
   "id": "a9c93976",
   "metadata": {},
   "source": [
    "## Comprobación de las hipótesis"
   ]
  },
  {
   "cell_type": "markdown",
   "id": "cc94dbb0",
   "metadata": {},
   "source": [
    "**¿Existe una correlación entre tener hijos y pagar a tiempo?**"
   ]
  },
  {
   "cell_type": "code",
   "execution_count": 72,
   "id": "2d63c565",
   "metadata": {
    "scrolled": true
   },
   "outputs": [
    {
     "data": {
      "text/html": [
       "<div>\n",
       "<style scoped>\n",
       "    .dataframe tbody tr th:only-of-type {\n",
       "        vertical-align: middle;\n",
       "    }\n",
       "\n",
       "    .dataframe tbody tr th {\n",
       "        vertical-align: top;\n",
       "    }\n",
       "\n",
       "    .dataframe thead th {\n",
       "        text-align: right;\n",
       "    }\n",
       "</style>\n",
       "<table border=\"1\" class=\"dataframe\">\n",
       "  <thead>\n",
       "    <tr style=\"text-align: right;\">\n",
       "      <th>debt</th>\n",
       "      <th>0</th>\n",
       "      <th>1</th>\n",
       "      <th>All</th>\n",
       "    </tr>\n",
       "    <tr>\n",
       "      <th>has_children</th>\n",
       "      <th></th>\n",
       "      <th></th>\n",
       "      <th></th>\n",
       "    </tr>\n",
       "  </thead>\n",
       "  <tbody>\n",
       "    <tr>\n",
       "      <th>No</th>\n",
       "      <td>13091</td>\n",
       "      <td>1071</td>\n",
       "      <td>14162</td>\n",
       "    </tr>\n",
       "    <tr>\n",
       "      <th>Yes</th>\n",
       "      <td>6622</td>\n",
       "      <td>670</td>\n",
       "      <td>7292</td>\n",
       "    </tr>\n",
       "    <tr>\n",
       "      <th>All</th>\n",
       "      <td>19713</td>\n",
       "      <td>1741</td>\n",
       "      <td>21454</td>\n",
       "    </tr>\n",
       "  </tbody>\n",
       "</table>\n",
       "</div>"
      ],
      "text/plain": [
       "debt              0     1    All\n",
       "has_children                    \n",
       "No            13091  1071  14162\n",
       "Yes            6622   670   7292\n",
       "All           19713  1741  21454"
      ]
     },
     "execution_count": 72,
     "metadata": {},
     "output_type": "execute_result"
    }
   ],
   "source": [
    "pivot_children_debt = data_credit_scoring.pivot_table(index = 'has_children', columns = 'debt', values = 'children', aggfunc = 'count', margins = True)\n",
    "pivot_children_debt"
   ]
  },
  {
   "cell_type": "code",
   "execution_count": 74,
   "id": "0f748726",
   "metadata": {},
   "outputs": [
    {
     "data": {
      "image/png": "[encoded data removed]",
      "text/plain": [
       "<Figure size 432x288 with 1 Axes>"
      ]
     },
     "metadata": {},
     "output_type": "display_data"
    }
   ],
   "source": [
    "pivot_children_debt.plot(kind = 'bar')\n",
    "plt.show()"
   ]
  },
  {
   "cell_type": "code",
   "execution_count": 75,
   "id": "6c52a3ca",
   "metadata": {},
   "outputs": [
    {
     "name": "stdout",
     "output_type": "stream",
     "text": [
      "0.09188151398793198\n"
     ]
    },
    {
     "data": {
      "text/plain": [
       "0.07562491173563056"
      ]
     },
     "execution_count": 75,
     "metadata": {},
     "output_type": "execute_result"
    }
   ],
   "source": [
    "t_h = pivot_children_debt.loc['Yes', 1]/pivot_children_debt.loc['Yes', 'All']\n",
    "t_nh = pivot_children_debt.loc['No', 1]/pivot_children_debt.loc['No', 'All']\n",
    "print(t_h)\n",
    "t_nh"
   ]
  },
  {
   "cell_type": "markdown",
   "id": "2a142cee",
   "metadata": {},
   "source": [
    "***Conclusiones***\n",
    "\n",
    "* La tasa de impago en para el grupo que `tiene hijos` es `0.092`.\n",
    "\n",
    "* La tasa de impago en para el grupo que `no tiene hijos` es `0.076`.\n",
    "\n",
    "* Tener hijos representa un riesgo de impago `1.2` veces mayor que no tener hijos. "
   ]
  },
  {
   "cell_type": "markdown",
   "id": "fdd41f8c",
   "metadata": {},
   "source": [
    "**¿Existe una correlación entre la situación familiar y el pago a tiempo?**"
   ]
  },
  {
   "cell_type": "code",
   "execution_count": 76,
   "id": "4e7e81e7",
   "metadata": {
    "scrolled": true
   },
   "outputs": [
    {
     "data": {
      "text/html": [
       "<div>\n",
       "<style scoped>\n",
       "    .dataframe tbody tr th:only-of-type {\n",
       "        vertical-align: middle;\n",
       "    }\n",
       "\n",
       "    .dataframe tbody tr th {\n",
       "        vertical-align: top;\n",
       "    }\n",
       "\n",
       "    .dataframe thead th {\n",
       "        text-align: right;\n",
       "    }\n",
       "</style>\n",
       "<table border=\"1\" class=\"dataframe\">\n",
       "  <thead>\n",
       "    <tr style=\"text-align: right;\">\n",
       "      <th>debt</th>\n",
       "      <th>0</th>\n",
       "      <th>1</th>\n",
       "      <th>All</th>\n",
       "    </tr>\n",
       "    <tr>\n",
       "      <th>married</th>\n",
       "      <th></th>\n",
       "      <th></th>\n",
       "      <th></th>\n",
       "    </tr>\n",
       "  </thead>\n",
       "  <tbody>\n",
       "    <tr>\n",
       "      <th>No</th>\n",
       "      <td>8305</td>\n",
       "      <td>810</td>\n",
       "      <td>9115</td>\n",
       "    </tr>\n",
       "    <tr>\n",
       "      <th>Yes</th>\n",
       "      <td>11408</td>\n",
       "      <td>931</td>\n",
       "      <td>12339</td>\n",
       "    </tr>\n",
       "    <tr>\n",
       "      <th>All</th>\n",
       "      <td>19713</td>\n",
       "      <td>1741</td>\n",
       "      <td>21454</td>\n",
       "    </tr>\n",
       "  </tbody>\n",
       "</table>\n",
       "</div>"
      ],
      "text/plain": [
       "debt         0     1    All\n",
       "married                    \n",
       "No        8305   810   9115\n",
       "Yes      11408   931  12339\n",
       "All      19713  1741  21454"
      ]
     },
     "execution_count": 76,
     "metadata": {},
     "output_type": "execute_result"
    }
   ],
   "source": [
    "pivot_married_debt = data_credit_scoring.pivot_table(index = 'married', columns = 'debt', values = 'children', aggfunc = 'count', margins = True)\n",
    "pivot_married_debt"
   ]
  },
  {
   "cell_type": "code",
   "execution_count": 78,
   "id": "6268dd2f",
   "metadata": {},
   "outputs": [
    {
     "data": {
      "image/png": "[encoded data removed]",
      "text/plain": [
       "<Figure size 432x288 with 1 Axes>"
      ]
     },
     "metadata": {},
     "output_type": "display_data"
    }
   ],
   "source": [
    "pivot_married_debt.plot(kind = 'bar')\n",
    "plt.show()"
   ]
  },
  {
   "cell_type": "code",
   "execution_count": 79,
   "id": "e9c2d9fa",
   "metadata": {},
   "outputs": [
    {
     "name": "stdout",
     "output_type": "stream",
     "text": [
      "0.07545181943431396\n",
      "0.08886450905101481\n"
     ]
    },
    {
     "data": {
      "text/plain": [
       "1.1777649593775208"
      ]
     },
     "execution_count": 79,
     "metadata": {},
     "output_type": "execute_result"
    }
   ],
   "source": [
    "t_m = pivot_married_debt.loc['Yes', 1]/pivot_married_debt.loc['Yes', 'All']\n",
    "t_nm = pivot_married_debt.loc['No', 1]/pivot_married_debt.loc['No', 'All']\n",
    "print(t_m)\n",
    "print(t_nm)\n",
    "t_nm/t_m"
   ]
  },
  {
   "cell_type": "markdown",
   "id": "ca1a3d19",
   "metadata": {},
   "source": [
    "***Conclusiones*** \n",
    "\n",
    "* La tasa de impago en el grupo de los `casados` es `0.75`. \n",
    "\n",
    "* La tasa de impago en el grupo de los `no casados` es `0.89`. \n",
    "\n",
    "* No estar casado representa un riesgo de impago `1.18` veces mayor que estarlo.\n"
   ]
  },
  {
   "cell_type": "markdown",
   "id": "1b9e6ebb",
   "metadata": {},
   "source": [
    "**¿Existe una correlación entre el nivel de ingresos y el pago a tiempo?**"
   ]
  },
  {
   "cell_type": "code",
   "execution_count": 80,
   "id": "ea7cdc7c",
   "metadata": {},
   "outputs": [
    {
     "data": {
      "text/html": [
       "<div>\n",
       "<style scoped>\n",
       "    .dataframe tbody tr th:only-of-type {\n",
       "        vertical-align: middle;\n",
       "    }\n",
       "\n",
       "    .dataframe tbody tr th {\n",
       "        vertical-align: top;\n",
       "    }\n",
       "\n",
       "    .dataframe thead th {\n",
       "        text-align: right;\n",
       "    }\n",
       "</style>\n",
       "<table border=\"1\" class=\"dataframe\">\n",
       "  <thead>\n",
       "    <tr style=\"text-align: right;\">\n",
       "      <th>debt</th>\n",
       "      <th>0</th>\n",
       "      <th>1</th>\n",
       "      <th>All</th>\n",
       "    </tr>\n",
       "    <tr>\n",
       "      <th>income_group</th>\n",
       "      <th></th>\n",
       "      <th></th>\n",
       "      <th></th>\n",
       "    </tr>\n",
       "  </thead>\n",
       "  <tbody>\n",
       "    <tr>\n",
       "      <th>high_income</th>\n",
       "      <td>4990</td>\n",
       "      <td>374</td>\n",
       "      <td>5364</td>\n",
       "    </tr>\n",
       "    <tr>\n",
       "      <th>low_income</th>\n",
       "      <td>4938</td>\n",
       "      <td>426</td>\n",
       "      <td>5364</td>\n",
       "    </tr>\n",
       "    <tr>\n",
       "      <th>medium_income</th>\n",
       "      <td>9785</td>\n",
       "      <td>941</td>\n",
       "      <td>10726</td>\n",
       "    </tr>\n",
       "    <tr>\n",
       "      <th>All</th>\n",
       "      <td>19713</td>\n",
       "      <td>1741</td>\n",
       "      <td>21454</td>\n",
       "    </tr>\n",
       "  </tbody>\n",
       "</table>\n",
       "</div>"
      ],
      "text/plain": [
       "debt               0     1    All\n",
       "income_group                     \n",
       "high_income     4990   374   5364\n",
       "low_income      4938   426   5364\n",
       "medium_income   9785   941  10726\n",
       "All            19713  1741  21454"
      ]
     },
     "execution_count": 80,
     "metadata": {},
     "output_type": "execute_result"
    }
   ],
   "source": [
    "pivot_income_debt = data_credit_scoring.pivot_table(index = 'income_group', columns = 'debt', values = 'children', aggfunc = 'count', margins = True)\n",
    "pivot_income_debt"
   ]
  },
  {
   "cell_type": "code",
   "execution_count": 82,
   "id": "df268a91",
   "metadata": {},
   "outputs": [
    {
     "data": {
      "image/png": "[encoded data removed]",
      "text/plain": [
       "<Figure size 432x288 with 1 Axes>"
      ]
     },
     "metadata": {},
     "output_type": "display_data"
    }
   ],
   "source": [
    "pivot_income_debt.plot(kind = 'bar')\n",
    "plt.show()"
   ]
  },
  {
   "cell_type": "code",
   "execution_count": 83,
   "id": "4dc96a91",
   "metadata": {},
   "outputs": [
    {
     "name": "stdout",
     "output_type": "stream",
     "text": [
      "0.06972408650260999\n",
      "0.07941834451901567\n"
     ]
    },
    {
     "data": {
      "text/plain": [
       "0.0877307477158307"
      ]
     },
     "execution_count": 83,
     "metadata": {},
     "output_type": "execute_result"
    }
   ],
   "source": [
    "t_hi = pivot_income_debt.loc['high_income',1]/pivot_income_debt.loc['high_income','All']\n",
    "print(t_hi)\n",
    "t_li = pivot_income_debt.loc['low_income',1]/pivot_income_debt.loc['low_income','All']\n",
    "print(t_li)\n",
    "t_mi = pivot_income_debt.loc['medium_income',1]/pivot_income_debt.loc['medium_income','All']\n",
    "t_mi"
   ]
  },
  {
   "cell_type": "code",
   "execution_count": 84,
   "id": "602e332a",
   "metadata": {},
   "outputs": [
    {
     "name": "stdout",
     "output_type": "stream",
     "text": [
      "1.2582559645660853\n"
     ]
    },
    {
     "data": {
      "text/plain": [
       "1.1046660346190513"
      ]
     },
     "execution_count": 84,
     "metadata": {},
     "output_type": "execute_result"
    }
   ],
   "source": [
    "print(t_mi/t_hi)\n",
    "t_mi/t_li"
   ]
  },
  {
   "cell_type": "markdown",
   "id": "590ce227",
   "metadata": {},
   "source": [
    "***Conclusiones***\n",
    "\n",
    "* La tasa de impago en el grupo de los que tienen `altos ingresos` es `0.07`.\n",
    "\n",
    "* La tasa de impago en el grupo de los que tienen `bajos ingresos` es `0.08`.\n",
    "\n",
    "* La tasa de impago en el grupo de los que tienen `ingresos medios` es `0.09`.\n",
    "\n",
    "* Es `1.3` más probable el inpago a tiempo si el solicitante es de `ingreso medio` que si es de `ingreso alto` y `1.1` que si es de `ingreso bajo`. "
   ]
  },
  {
   "cell_type": "markdown",
   "id": "c751dfd0",
   "metadata": {},
   "source": [
    "**¿Cómo afecta el propósito del crédito a la tasa de incumplimiento?**"
   ]
  },
  {
   "cell_type": "code",
   "execution_count": 85,
   "id": "5b24ae28",
   "metadata": {},
   "outputs": [
    {
     "data": {
      "text/html": [
       "<div>\n",
       "<style scoped>\n",
       "    .dataframe tbody tr th:only-of-type {\n",
       "        vertical-align: middle;\n",
       "    }\n",
       "\n",
       "    .dataframe tbody tr th {\n",
       "        vertical-align: top;\n",
       "    }\n",
       "\n",
       "    .dataframe thead th {\n",
       "        text-align: right;\n",
       "    }\n",
       "</style>\n",
       "<table border=\"1\" class=\"dataframe\">\n",
       "  <thead>\n",
       "    <tr style=\"text-align: right;\">\n",
       "      <th>debt</th>\n",
       "      <th>0</th>\n",
       "      <th>1</th>\n",
       "      <th>All</th>\n",
       "    </tr>\n",
       "    <tr>\n",
       "      <th>purpose_group</th>\n",
       "      <th></th>\n",
       "      <th></th>\n",
       "      <th></th>\n",
       "    </tr>\n",
       "  </thead>\n",
       "  <tbody>\n",
       "    <tr>\n",
       "      <th>car</th>\n",
       "      <td>3903</td>\n",
       "      <td>403</td>\n",
       "      <td>4306</td>\n",
       "    </tr>\n",
       "    <tr>\n",
       "      <th>education_purpose</th>\n",
       "      <td>3643</td>\n",
       "      <td>370</td>\n",
       "      <td>4013</td>\n",
       "    </tr>\n",
       "    <tr>\n",
       "      <th>house</th>\n",
       "      <td>3553</td>\n",
       "      <td>256</td>\n",
       "      <td>3809</td>\n",
       "    </tr>\n",
       "    <tr>\n",
       "      <th>real_estate</th>\n",
       "      <td>6476</td>\n",
       "      <td>526</td>\n",
       "      <td>7002</td>\n",
       "    </tr>\n",
       "    <tr>\n",
       "      <th>wedding</th>\n",
       "      <td>2138</td>\n",
       "      <td>186</td>\n",
       "      <td>2324</td>\n",
       "    </tr>\n",
       "    <tr>\n",
       "      <th>All</th>\n",
       "      <td>19713</td>\n",
       "      <td>1741</td>\n",
       "      <td>21454</td>\n",
       "    </tr>\n",
       "  </tbody>\n",
       "</table>\n",
       "</div>"
      ],
      "text/plain": [
       "debt                   0     1    All\n",
       "purpose_group                        \n",
       "car                 3903   403   4306\n",
       "education_purpose   3643   370   4013\n",
       "house               3553   256   3809\n",
       "real_estate         6476   526   7002\n",
       "wedding             2138   186   2324\n",
       "All                19713  1741  21454"
      ]
     },
     "execution_count": 85,
     "metadata": {},
     "output_type": "execute_result"
    }
   ],
   "source": [
    "pivot_purpose_debt = data_credit_scoring.pivot_table(index = 'purpose_group', columns = 'debt', values = 'children', aggfunc = 'count', margins = True)\n",
    "pivot_purpose_debt"
   ]
  },
  {
   "cell_type": "code",
   "execution_count": 87,
   "id": "b6cfc13b",
   "metadata": {},
   "outputs": [
    {
     "data": {
      "image/png": "[encoded data removed]",
      "text/plain": [
       "<Figure size 432x288 with 1 Axes>"
      ]
     },
     "metadata": {},
     "output_type": "display_data"
    }
   ],
   "source": [
    "pivot_purpose_debt.plot(kind = 'bar')\n",
    "plt.show()"
   ]
  },
  {
   "cell_type": "code",
   "execution_count": 88,
   "id": "b0987e7f",
   "metadata": {},
   "outputs": [
    {
     "name": "stdout",
     "output_type": "stream",
     "text": [
      "0.09359033906177427\n",
      "0.0922003488661849\n",
      "0.06720924127067472\n",
      "0.07512139388746072\n",
      "0.08003442340791739\n"
     ]
    }
   ],
   "source": [
    "t_c = pivot_purpose_debt.loc['car',1]/pivot_purpose_debt.loc['car','All']\n",
    "print(t_c)\n",
    "t_edu = pivot_purpose_debt.loc['education_purpose',1]/pivot_purpose_debt.loc['education_purpose','All']\n",
    "print(t_edu)\n",
    "t_hou = pivot_purpose_debt.loc['house',1]/pivot_purpose_debt.loc['house','All']\n",
    "print(t_hou)\n",
    "t_rs = pivot_purpose_debt.loc['real_estate',1]/pivot_purpose_debt.loc['real_estate','All']\n",
    "print(t_rs)\n",
    "t_w = pivot_purpose_debt.loc['wedding',1]/pivot_purpose_debt.loc['wedding','All']\n",
    "print(t_w)"
   ]
  },
  {
   "cell_type": "code",
   "execution_count": 89,
   "id": "db6eabbf",
   "metadata": {},
   "outputs": [
    {
     "name": "stdout",
     "output_type": "stream",
     "text": [
      "1.2458546656093983\n"
     ]
    },
    {
     "data": {
      "text/plain": [
       "1.3925218808058524"
      ]
     },
     "execution_count": 89,
     "metadata": {},
     "output_type": "execute_result"
    }
   ],
   "source": [
    "print(t_c/t_rs)\n",
    "t_c/t_hou"
   ]
  },
  {
   "cell_type": "markdown",
   "id": "e63288d9",
   "metadata": {},
   "source": [
    "***Conclusiones***\n",
    "\n",
    "* La tasa de impago para los que piden crédito para `coche` es de `0.094`.\n",
    "\n",
    "* La tasa de impago para los que piden crédito para `educación` es de `0.092`.\n",
    "\n",
    "* La tasa de impago para los que piden crédito para `casa` es de `0.067`.\n",
    "\n",
    "* La tasa de impago para los que piden crédito para `bienes raíces` es de `0.075`.\n",
    "\n",
    "* La tasa de impago para los que piden crédito para `boda` es de `0.08`.\n",
    "\n",
    "* **Es `1.4` más probable el impago a tiempo cuando el crédito es para `coche` que cuando se solicita para `casa`, `1.2` más que cuando se solicita para `bienes raíces`.**"
   ]
  },
  {
   "cell_type": "markdown",
   "id": "dbed2e3e",
   "metadata": {},
   "source": [
    "## Conclusiones generales del estudio\n",
    "\n",
    "***Estrategia seguida***\n",
    "\n",
    "1. En este proyecto nos planteamos responder como algunas características sociales de los clientes, como `estatus familiar`, `edad`, `nivel escolar` y `nivel de ingresos`, influyen en la probabilidad de no pagar a tiempo el crédito solicitado. \n",
    "\n",
    "2. Se utilizó una base de datos con `21565` observaciones en la cual se presentaban `2` variables numéricas con valores ausentes, `days_employed` y `total_income`. Los valores ausentes se presentaban en ambas columnas en las mismas filas. Después de un estudio de la distribución de los mismos llegamos a la conclusión que **las filas con valores ausentes en estas columnas se asociaban a clientes de ingresos bajos y alta antiguedad.** \n",
    "\n",
    "3. Los valores ausentes se sustituyeron por `las medianas` de las variables con valores ausentes tomadas por categorías asociadas a variables que representan carácteristicas que pueden influir en estos valores.\n",
    "\n",
    "4. Algunas columnas también presentaban problemas de valores no válidos, los cuales también fueron resueltos. \n",
    "\n",
    "5. Finalmente, se agregaron `cinco columnas` representando variables categóricas que agrupan de manera más concisa las variables a considerar en relación con la probabilidad de inpago a tiempo. \n",
    "\n",
    "***Resultado obtenidos***\n",
    "\n",
    "Construimos `tablas cruzadas` para establecer una posible correlación entre la variable `debt` y las cinco variables `purpose_group`, `has_children`, `married` y `income_group`.\n",
    "\n",
    "1. Tener hijos `aumenta` la propabilidad de no pagar a tiempo. \n",
    "\n",
    "2. Ser casado `disminuye` la probabilidad de no pagar a tiempo. \n",
    "\n",
    "3. Las personas que piden créditos para `coches` y `educación` tienen más probabilidad de no pagar a tiempo.\n",
    "\n",
    "4. Las personas con `ingresos medios` tiene `mayores` probabilidades de no pagar a tiempo.  "
   ]
  }
 ],
 "metadata": {
  "ExecuteTimeLog": [
   {
    "duration": 94,
    "start_time": "2022-08-28T19:07:58.737Z"
   },
   {
    "duration": 50,
    "start_time": "2022-08-28T19:17:18.567Z"
   },
   {
    "duration": 1904,
    "start_time": "2022-08-28T19:17:21.484Z"
   },
   {
    "duration": 286,
    "start_time": "2022-08-28T19:17:23.391Z"
   },
   {
    "duration": 0,
    "start_time": "2022-08-28T19:17:23.682Z"
   },
   {
    "duration": 0,
    "start_time": "2022-08-28T19:17:23.683Z"
   },
   {
    "duration": 0,
    "start_time": "2022-08-28T19:17:23.685Z"
   },
   {
    "duration": 0,
    "start_time": "2022-08-28T19:17:23.686Z"
   },
   {
    "duration": 0,
    "start_time": "2022-08-28T19:17:23.687Z"
   },
   {
    "duration": 0,
    "start_time": "2022-08-28T19:17:23.688Z"
   },
   {
    "duration": 0,
    "start_time": "2022-08-28T19:17:23.702Z"
   },
   {
    "duration": 0,
    "start_time": "2022-08-28T19:17:23.703Z"
   },
   {
    "duration": 0,
    "start_time": "2022-08-28T19:17:23.704Z"
   },
   {
    "duration": 0,
    "start_time": "2022-08-28T19:17:23.704Z"
   },
   {
    "duration": 0,
    "start_time": "2022-08-28T19:17:23.705Z"
   },
   {
    "duration": 0,
    "start_time": "2022-08-28T19:17:23.707Z"
   },
   {
    "duration": 0,
    "start_time": "2022-08-28T19:17:23.708Z"
   },
   {
    "duration": 0,
    "start_time": "2022-08-28T19:17:23.709Z"
   },
   {
    "duration": 0,
    "start_time": "2022-08-28T19:17:23.710Z"
   },
   {
    "duration": 0,
    "start_time": "2022-08-28T19:17:23.712Z"
   },
   {
    "duration": 0,
    "start_time": "2022-08-28T19:17:23.713Z"
   },
   {
    "duration": 0,
    "start_time": "2022-08-28T19:17:23.715Z"
   },
   {
    "duration": 0,
    "start_time": "2022-08-28T19:17:23.716Z"
   },
   {
    "duration": 0,
    "start_time": "2022-08-28T19:17:23.717Z"
   },
   {
    "duration": 0,
    "start_time": "2022-08-28T19:17:23.718Z"
   },
   {
    "duration": 0,
    "start_time": "2022-08-28T19:17:23.720Z"
   },
   {
    "duration": 0,
    "start_time": "2022-08-28T19:17:23.721Z"
   },
   {
    "duration": 0,
    "start_time": "2022-08-28T19:17:23.722Z"
   },
   {
    "duration": 49,
    "start_time": "2022-08-28T19:17:35.647Z"
   },
   {
    "duration": 56,
    "start_time": "2022-08-28T19:17:42.998Z"
   },
   {
    "duration": 201,
    "start_time": "2022-08-28T19:18:21.261Z"
   },
   {
    "duration": 4,
    "start_time": "2022-08-28T19:18:24.695Z"
   },
   {
    "duration": 9,
    "start_time": "2022-08-28T19:18:24.889Z"
   },
   {
    "duration": 19,
    "start_time": "2022-08-28T19:18:25.425Z"
   },
   {
    "duration": 18,
    "start_time": "2022-08-28T19:18:25.722Z"
   },
   {
    "duration": 19,
    "start_time": "2022-08-28T19:18:26.029Z"
   },
   {
    "duration": 32,
    "start_time": "2022-08-28T19:18:26.330Z"
   },
   {
    "duration": 6,
    "start_time": "2022-08-28T19:18:26.627Z"
   },
   {
    "duration": 13,
    "start_time": "2022-08-28T19:18:26.887Z"
   },
   {
    "duration": 7,
    "start_time": "2022-08-28T19:18:27.149Z"
   },
   {
    "duration": 7,
    "start_time": "2022-08-28T19:18:27.462Z"
   },
   {
    "duration": 29,
    "start_time": "2022-08-28T19:18:27.800Z"
   },
   {
    "duration": 11,
    "start_time": "2022-08-28T19:18:28.123Z"
   },
   {
    "duration": 7,
    "start_time": "2022-08-28T19:18:28.433Z"
   },
   {
    "duration": 14,
    "start_time": "2022-08-28T19:18:28.701Z"
   },
   {
    "duration": 8,
    "start_time": "2022-08-28T19:18:28.974Z"
   },
   {
    "duration": 8,
    "start_time": "2022-08-28T19:18:29.271Z"
   },
   {
    "duration": 11,
    "start_time": "2022-08-28T19:18:29.601Z"
   },
   {
    "duration": 6,
    "start_time": "2022-08-28T19:18:30.738Z"
   },
   {
    "duration": 13,
    "start_time": "2022-08-28T19:18:31.834Z"
   },
   {
    "duration": 8,
    "start_time": "2022-08-28T19:18:34.033Z"
   },
   {
    "duration": 6,
    "start_time": "2022-08-28T19:18:34.580Z"
   },
   {
    "duration": 13,
    "start_time": "2022-08-28T19:18:36.627Z"
   },
   {
    "duration": 20,
    "start_time": "2022-08-28T19:18:37.240Z"
   },
   {
    "duration": 219,
    "start_time": "2022-08-28T19:18:37.959Z"
   },
   {
    "duration": 3,
    "start_time": "2022-08-28T19:18:38.180Z"
   },
   {
    "duration": 4,
    "start_time": "2022-08-28T19:18:39.932Z"
   }
  ],
  "kernelspec": {
   "display_name": "Python 3 (ipykernel)",
   "language": "python",
   "name": "python3"
  },
  "language_info": {
   "codemirror_mode": {
    "name": "ipython",
    "version": 3
   },
   "file_extension": ".py",
   "mimetype": "text/x-python",
   "name": "python",
   "nbconvert_exporter": "python",
   "pygments_lexer": "ipython3",
   "version": "3.9.12"
  },
  "toc": {
   "base_numbering": 1,
   "nav_menu": {},
   "number_sections": true,
   "sideBar": true,
   "skip_h1_title": true,
   "title_cell": "Table of Contents",
   "title_sidebar": "Contents",
   "toc_cell": false,
   "toc_position": {},
   "toc_section_display": true,
   "toc_window_display": false
  }
 },
 "nbformat": 4,
 "nbformat_minor": 5
}
